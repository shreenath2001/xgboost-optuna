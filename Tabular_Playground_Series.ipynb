{
  "nbformat": 4,
  "nbformat_minor": 0,
  "metadata": {
    "colab": {
      "name": "Tabular_Playground_Series.ipynb",
      "provenance": [],
      "collapsed_sections": []
    },
    "kernelspec": {
      "name": "python3",
      "display_name": "Python 3"
    },
    "accelerator": "GPU"
  },
  "cells": [
    {
      "cell_type": "code",
      "metadata": {
        "id": "FXKg0rLsL_fn"
      },
      "source": [
        "! pip install -q kaggle"
      ],
      "execution_count": 1,
      "outputs": []
    },
    {
      "cell_type": "code",
      "metadata": {
        "id": "qU6nC-A7MGye"
      },
      "source": [
        "from google.colab import files"
      ],
      "execution_count": 2,
      "outputs": []
    },
    {
      "cell_type": "code",
      "metadata": {
        "colab": {
          "resources": {
            "http://localhost:8080/nbextensions/google.colab/files.js": {
              "data": "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",
              "ok": true,
              "headers": [
                [
                  "content-type",
                  "application/javascript"
                ]
              ],
              "status": 200,
              "status_text": ""
            }
          },
          "base_uri": "https://localhost:8080/",
          "height": 90
        },
        "id": "C311w2XMMG39",
        "outputId": "7dff50df-8419-43b0-c8fa-789f71227283"
      },
      "source": [
        "files.upload()"
      ],
      "execution_count": 3,
      "outputs": [
        {
          "output_type": "display_data",
          "data": {
            "text/html": [
              "\n",
              "     <input type=\"file\" id=\"files-eeca2489-18bf-4a5d-8018-0fd3943074bd\" name=\"files[]\" multiple disabled\n",
              "        style=\"border:none\" />\n",
              "     <output id=\"result-eeca2489-18bf-4a5d-8018-0fd3943074bd\">\n",
              "      Upload widget is only available when the cell has been executed in the\n",
              "      current browser session. Please rerun this cell to enable.\n",
              "      </output>\n",
              "      <script src=\"/nbextensions/google.colab/files.js\"></script> "
            ],
            "text/plain": [
              "<IPython.core.display.HTML object>"
            ]
          },
          "metadata": {
            "tags": []
          }
        },
        {
          "output_type": "stream",
          "text": [
            "Saving kaggle.json to kaggle.json\n"
          ],
          "name": "stdout"
        },
        {
          "output_type": "execute_result",
          "data": {
            "text/plain": [
              "{'kaggle.json': b'{\"username\":\"shreenathbharadwaj\",\"key\":\"14a5bd70d60f486fcbbee55000c32039\"}'}"
            ]
          },
          "metadata": {
            "tags": []
          },
          "execution_count": 3
        }
      ]
    },
    {
      "cell_type": "code",
      "metadata": {
        "id": "4IA61l-EMG7W"
      },
      "source": [
        "! mkdir ~/.kaggle"
      ],
      "execution_count": 4,
      "outputs": []
    },
    {
      "cell_type": "code",
      "metadata": {
        "id": "IVjH-1KSMHMN"
      },
      "source": [
        "! cp kaggle.json ~/.kaggle/"
      ],
      "execution_count": 5,
      "outputs": []
    },
    {
      "cell_type": "code",
      "metadata": {
        "id": "b04s-jD9MHTt"
      },
      "source": [
        "! chmod 600 ~/.kaggle/kaggle.json"
      ],
      "execution_count": 6,
      "outputs": []
    },
    {
      "cell_type": "code",
      "metadata": {
        "colab": {
          "base_uri": "https://localhost:8080/"
        },
        "id": "Hld8jrbWMHa1",
        "outputId": "91fcb4b1-f486-460e-dc17-0d71a68b1ea9"
      },
      "source": [
        "! kaggle datasets list"
      ],
      "execution_count": 7,
      "outputs": [
        {
          "output_type": "stream",
          "text": [
            "Warning: Looks like you're using an outdated API Version, please consider updating (server 1.5.10 / client 1.5.4)\n",
            "ref                                                    title                                                size  lastUpdated          downloadCount  \n",
            "-----------------------------------------------------  --------------------------------------------------  -----  -------------------  -------------  \n",
            "gpreda/covid-world-vaccination-progress                COVID-19 World Vaccination Progress                  41KB  2021-01-31 09:09:49           4679  \n",
            "ayushggarg/all-trumps-twitter-insults-20152021         All Trump's Twitter insults (2015-2021)             581KB  2021-01-20 16:51:05            926  \n",
            "sevgisarac/temperature-change                          Temperature change                                  778KB  2020-12-24 20:06:36           1002  \n",
            "jorgesandoval/wind-power-generation                    Wind Power Generation Data                          245KB  2021-01-07 18:45:08            408  \n",
            "cdminix/us-drought-meteorological-data                 US Drought & Meteorological Data                    748MB  2021-01-20 21:48:02            147  \n",
            "fedesoriano/cern-electron-collision-data               CERN electron collision data                          6MB  2020-12-25 19:04:17            178  \n",
            "google/android-smartphones-high-accuracy-datasets      Android smartphones high accuracy GNSS datasets       1GB  2020-12-23 01:51:11            731  \n",
            "tapakah68/segmentation-full-body-mads-dataset          Segmentation Full Body MADS Dataset                 474MB  2021-01-20 18:43:02             64  \n",
            "sakshigoyal7/credit-card-customers                     Credit Card customers                               379KB  2020-11-19 07:38:44          21577  \n",
            "utkarshxy/who-worldhealth-statistics-2020-complete     World Health Statistics 2020|Complete|Geo-Analysis    1MB  2021-01-25 06:11:19           6698  \n",
            "yamaerenay/spotify-dataset-19212020-160k-tracks        Spotify Dataset 1921-2020, 160k+ Tracks              17MB  2021-01-24 23:46:53          18509  \n",
            "gpreda/pfizer-vaccine-tweets                           Pfizer Vaccine Tweets                               813KB  2021-01-31 09:11:51           3711  \n",
            "sootersaalu/amazon-top-50-bestselling-books-2009-2019  Amazon Top 50 Bestselling Books 2009 - 2019          15KB  2020-10-13 09:39:21          15703  \n",
            "arashnic/hr-analytics-job-change-of-data-scientists    HR Analytics: Job Change of Data Scientists         295KB  2020-12-07 00:25:10           5471  \n",
            "arashnic/covid19-case-surveillance-public-use-dataset  Covid-19 Case Surveillance Public Use Dataset        46MB  2020-12-21 02:24:21           3132  \n",
            "datasnaek/youtube-new                                  Trending YouTube Video Statistics                   201MB  2019-06-03 00:56:47         125501  \n",
            "google/tinyquickdraw                                   QuickDraw Sketches                                   11GB  2018-04-18 19:38:04           2787  \n",
            "zynicide/wine-reviews                                  Wine Reviews                                         51MB  2017-11-27 17:08:04         126923  \n",
            "rtatman/188-million-us-wildfires                       1.88 Million US Wildfires                           168MB  2020-05-12 21:03:49          12864  \n",
            "datasnaek/chess                                        Chess Game Dataset (Lichess)                          3MB  2017-09-04 03:09:09          14219  \n"
          ],
          "name": "stdout"
        }
      ]
    },
    {
      "cell_type": "code",
      "metadata": {
        "colab": {
          "base_uri": "https://localhost:8080/"
        },
        "id": "GU1sDMldMHhm",
        "outputId": "c178078c-f6f3-4ede-da6a-19097f0fb2f8"
      },
      "source": [
        "! kaggle competitions download -c tabular-playground-series-jan-2021"
      ],
      "execution_count": 8,
      "outputs": [
        {
          "output_type": "stream",
          "text": [
            "Warning: Looks like you're using an outdated API Version, please consider updating (server 1.5.10 / client 1.5.4)\n",
            "Downloading test.csv.zip to /content\n",
            " 75% 18.0M/23.9M [00:00<00:00, 34.2MB/s]\n",
            "100% 23.9M/23.9M [00:00<00:00, 48.7MB/s]\n",
            "Downloading train.csv.zip to /content\n",
            " 65% 25.0M/38.4M [00:00<00:00, 42.0MB/s]\n",
            "100% 38.4M/38.4M [00:00<00:00, 43.9MB/s]\n",
            "Downloading sample_submission.csv.zip to /content\n",
            "  0% 0.00/469k [00:00<?, ?B/s]\n",
            "100% 469k/469k [00:00<00:00, 155MB/s]\n"
          ],
          "name": "stdout"
        }
      ]
    },
    {
      "cell_type": "code",
      "metadata": {
        "id": "Z3s6TxEzMHoW"
      },
      "source": [
        "! mkdir data"
      ],
      "execution_count": 9,
      "outputs": []
    },
    {
      "cell_type": "code",
      "metadata": {
        "colab": {
          "base_uri": "https://localhost:8080/"
        },
        "id": "P0CZGbPpMl9T",
        "outputId": "1bafe5b3-ac03-4dc1-fe4d-4e6fececafdd"
      },
      "source": [
        "! unzip train.csv.zip -d data\r\n",
        "! unzip test.csv.zip -d data\r\n",
        "! unzip sample_submission.csv.zip -d data"
      ],
      "execution_count": 10,
      "outputs": [
        {
          "output_type": "stream",
          "text": [
            "Archive:  train.csv.zip\n",
            "  inflating: data/train.csv          \n",
            "Archive:  test.csv.zip\n",
            "  inflating: data/test.csv           \n",
            "Archive:  sample_submission.csv.zip\n",
            "  inflating: data/sample_submission.csv  \n"
          ],
          "name": "stdout"
        }
      ]
    },
    {
      "cell_type": "code",
      "metadata": {
        "colab": {
          "base_uri": "https://localhost:8080/"
        },
        "id": "JIoCCCvJfaHO",
        "outputId": "6e0efecc-96fa-4302-f759-edfa3f4f8811"
      },
      "source": [
        "! pip install optuna"
      ],
      "execution_count": 11,
      "outputs": [
        {
          "output_type": "stream",
          "text": [
            "Collecting optuna\n",
            "\u001b[?25l  Downloading https://files.pythonhosted.org/packages/59/b4/a1a80252cef3d8f5a0acdf6e678d6dc07e2e6964ee46d0453a2ae1af1ecb/optuna-2.4.0-py3-none-any.whl (282kB)\n",
            "\u001b[K     |████████████████████████████████| 286kB 16.6MB/s \n",
            "\u001b[?25hCollecting alembic\n",
            "\u001b[?25l  Downloading https://files.pythonhosted.org/packages/cd/d2/1c6e91299280ef1a6dadbbd5e762a8b091d02e2340a9ff001b58ca80f536/alembic-1.5.3.tar.gz (1.1MB)\n",
            "\u001b[K     |████████████████████████████████| 1.1MB 56.0MB/s \n",
            "\u001b[?25hRequirement already satisfied: tqdm in /usr/local/lib/python3.6/dist-packages (from optuna) (4.41.1)\n",
            "Collecting cmaes>=0.6.0\n",
            "  Downloading https://files.pythonhosted.org/packages/8d/3c/06c76ec8b54b9b1fad7f35e903fd25010fe3e0d41bd94cea5e6f12e0d651/cmaes-0.7.0-py3-none-any.whl\n",
            "Collecting colorlog\n",
            "  Downloading https://files.pythonhosted.org/packages/5e/39/0230290df0519d528d8d0ffdfd900150ed24e0076d13b1f19e279444aab1/colorlog-4.7.2-py2.py3-none-any.whl\n",
            "Requirement already satisfied: numpy in /usr/local/lib/python3.6/dist-packages (from optuna) (1.19.5)\n",
            "Requirement already satisfied: sqlalchemy>=1.1.0 in /usr/local/lib/python3.6/dist-packages (from optuna) (1.3.22)\n",
            "Requirement already satisfied: joblib in /usr/local/lib/python3.6/dist-packages (from optuna) (1.0.0)\n",
            "Collecting cliff\n",
            "\u001b[?25l  Downloading https://files.pythonhosted.org/packages/0f/8f/3c74fa4b6c3db1051b495385f5302fc5d5aa0f180d40ce3e9a13c82f8c82/cliff-3.6.0-py3-none-any.whl (79kB)\n",
            "\u001b[K     |████████████████████████████████| 81kB 12.8MB/s \n",
            "\u001b[?25hRequirement already satisfied: scipy!=1.4.0 in /usr/local/lib/python3.6/dist-packages (from optuna) (1.4.1)\n",
            "Requirement already satisfied: packaging>=20.0 in /usr/local/lib/python3.6/dist-packages (from optuna) (20.8)\n",
            "Collecting Mako\n",
            "\u001b[?25l  Downloading https://files.pythonhosted.org/packages/5c/db/2d2d88b924aa4674a080aae83b59ea19d593250bfe5ed789947c21736785/Mako-1.1.4.tar.gz (479kB)\n",
            "\u001b[K     |████████████████████████████████| 481kB 55.2MB/s \n",
            "\u001b[?25hCollecting python-editor>=0.3\n",
            "  Downloading https://files.pythonhosted.org/packages/c6/d3/201fc3abe391bbae6606e6f1d598c15d367033332bd54352b12f35513717/python_editor-1.0.4-py3-none-any.whl\n",
            "Requirement already satisfied: python-dateutil in /usr/local/lib/python3.6/dist-packages (from alembic->optuna) (2.8.1)\n",
            "Requirement already satisfied: pyparsing>=2.1.0 in /usr/local/lib/python3.6/dist-packages (from cliff->optuna) (2.4.7)\n",
            "Collecting pbr!=2.1.0,>=2.0.0\n",
            "\u001b[?25l  Downloading https://files.pythonhosted.org/packages/fb/48/69046506f6ac61c1eaa9a0d42d22d54673b69e176d30ca98e3f61513e980/pbr-5.5.1-py2.py3-none-any.whl (106kB)\n",
            "\u001b[K     |████████████████████████████████| 112kB 57.1MB/s \n",
            "\u001b[?25hRequirement already satisfied: PyYAML>=3.12 in /usr/local/lib/python3.6/dist-packages (from cliff->optuna) (3.13)\n",
            "Collecting PrettyTable<0.8,>=0.7.2\n",
            "  Downloading https://files.pythonhosted.org/packages/ef/30/4b0746848746ed5941f052479e7c23d2b56d174b82f4fd34a25e389831f5/prettytable-0.7.2.tar.bz2\n",
            "Collecting stevedore>=2.0.1\n",
            "\u001b[?25l  Downloading https://files.pythonhosted.org/packages/d4/49/b602307aeac3df3384ff1fcd05da9c0376c622a6c48bb5325f28ab165b57/stevedore-3.3.0-py3-none-any.whl (49kB)\n",
            "\u001b[K     |████████████████████████████████| 51kB 8.6MB/s \n",
            "\u001b[?25hCollecting cmd2!=0.8.3,>=0.8.0\n",
            "\u001b[?25l  Downloading https://files.pythonhosted.org/packages/27/54/af6e2703f064485d717cb311d3f9440cd302a823ba6d80a020b59eae166d/cmd2-1.4.0-py3-none-any.whl (133kB)\n",
            "\u001b[K     |████████████████████████████████| 133kB 62.8MB/s \n",
            "\u001b[?25hRequirement already satisfied: MarkupSafe>=0.9.2 in /usr/local/lib/python3.6/dist-packages (from Mako->alembic->optuna) (1.1.1)\n",
            "Requirement already satisfied: six>=1.5 in /usr/local/lib/python3.6/dist-packages (from python-dateutil->alembic->optuna) (1.15.0)\n",
            "Requirement already satisfied: importlib-metadata>=1.7.0; python_version < \"3.8\" in /usr/local/lib/python3.6/dist-packages (from stevedore>=2.0.1->cliff->optuna) (3.4.0)\n",
            "Requirement already satisfied: wcwidth>=0.1.7 in /usr/local/lib/python3.6/dist-packages (from cmd2!=0.8.3,>=0.8.0->cliff->optuna) (0.2.5)\n",
            "Requirement already satisfied: attrs>=16.3.0 in /usr/local/lib/python3.6/dist-packages (from cmd2!=0.8.3,>=0.8.0->cliff->optuna) (20.3.0)\n",
            "Collecting colorama>=0.3.7\n",
            "  Downloading https://files.pythonhosted.org/packages/44/98/5b86278fbbf250d239ae0ecb724f8572af1c91f4a11edf4d36a206189440/colorama-0.4.4-py2.py3-none-any.whl\n",
            "Collecting pyperclip>=1.6\n",
            "  Downloading https://files.pythonhosted.org/packages/6f/4c/0b1d507ad7e8bc31d690d04b4f475e74c2002d060f7994ce8c09612df707/pyperclip-1.8.1.tar.gz\n",
            "Requirement already satisfied: typing-extensions>=3.6.4; python_version < \"3.8\" in /usr/local/lib/python3.6/dist-packages (from importlib-metadata>=1.7.0; python_version < \"3.8\"->stevedore>=2.0.1->cliff->optuna) (3.7.4.3)\n",
            "Requirement already satisfied: zipp>=0.5 in /usr/local/lib/python3.6/dist-packages (from importlib-metadata>=1.7.0; python_version < \"3.8\"->stevedore>=2.0.1->cliff->optuna) (3.4.0)\n",
            "Building wheels for collected packages: alembic, Mako, PrettyTable, pyperclip\n",
            "  Building wheel for alembic (setup.py) ... \u001b[?25l\u001b[?25hdone\n",
            "  Created wheel for alembic: filename=alembic-1.5.3-py2.py3-none-any.whl size=155547 sha256=fc705f4c007693e708a6d23bcce81a5777a2c52e0607053d8ecc23cfa966a606\n",
            "  Stored in directory: /root/.cache/pip/wheels/7f/ed/1b/a66a0cbca75fd3e374bd5cc60c443e5675f10ef1f1f78ec31d\n",
            "  Building wheel for Mako (setup.py) ... \u001b[?25l\u001b[?25hdone\n",
            "  Created wheel for Mako: filename=Mako-1.1.4-py2.py3-none-any.whl size=75675 sha256=b6c52e9bbd822c8617f5fe03b3caa035ecb04840943b3082a6961198f0f1d6ea\n",
            "  Stored in directory: /root/.cache/pip/wheels/ad/10/d3/aeb26e20d19045e2a68e5d3cbb57432e11b5d9c92c99f98d47\n",
            "  Building wheel for PrettyTable (setup.py) ... \u001b[?25l\u001b[?25hdone\n",
            "  Created wheel for PrettyTable: filename=prettytable-0.7.2-cp36-none-any.whl size=13702 sha256=0bee50669015be4200ddaf84306fa9513e91833d30170499f40184b2db10daf9\n",
            "  Stored in directory: /root/.cache/pip/wheels/80/34/1c/3967380d9676d162cb59513bd9dc862d0584e045a162095606\n",
            "  Building wheel for pyperclip (setup.py) ... \u001b[?25l\u001b[?25hdone\n",
            "  Created wheel for pyperclip: filename=pyperclip-1.8.1-cp36-none-any.whl size=11120 sha256=e5e99c86e51ab76b4f598e52fef9090dc97d35dc3d8f969eb2a7bc008ce793cd\n",
            "  Stored in directory: /root/.cache/pip/wheels/44/10/3a/c830e9bb3db2c93274ea1f213a41fabde0d8cf3794251fad0c\n",
            "Successfully built alembic Mako PrettyTable pyperclip\n",
            "Installing collected packages: Mako, python-editor, alembic, cmaes, colorlog, pbr, PrettyTable, stevedore, colorama, pyperclip, cmd2, cliff, optuna\n",
            "  Found existing installation: prettytable 2.0.0\n",
            "    Uninstalling prettytable-2.0.0:\n",
            "      Successfully uninstalled prettytable-2.0.0\n",
            "Successfully installed Mako-1.1.4 PrettyTable-0.7.2 alembic-1.5.3 cliff-3.6.0 cmaes-0.7.0 cmd2-1.4.0 colorama-0.4.4 colorlog-4.7.2 optuna-2.4.0 pbr-5.5.1 pyperclip-1.8.1 python-editor-1.0.4 stevedore-3.3.0\n"
          ],
          "name": "stdout"
        }
      ]
    },
    {
      "cell_type": "code",
      "metadata": {
        "id": "gjeVyTExM9gm"
      },
      "source": [
        "import numpy as np\r\n",
        "import pandas as pd\r\n",
        "\r\n",
        "import re\r\n",
        "from sklearn.preprocessing import StandardScaler\r\n",
        "from sklearn.model_selection import train_test_split\r\n",
        "from sklearn.metrics import mean_squared_error\r\n",
        "\r\n",
        "import optuna\r\n",
        "import xgboost as xgb\r\n",
        "\r\n",
        "from sklearn.metrics import r2_score"
      ],
      "execution_count": 23,
      "outputs": []
    },
    {
      "cell_type": "code",
      "metadata": {
        "colab": {
          "base_uri": "https://localhost:8080/",
          "height": 195
        },
        "id": "jaWsxt5JNEHu",
        "outputId": "8d480b6b-960f-4e4a-f7fd-19c65b6a892e"
      },
      "source": [
        "train_df = pd.read_csv('data/train.csv', header = 0)\r\n",
        "test_df = pd.read_csv('data/test.csv', header = 0)\r\n",
        "train_df.head()"
      ],
      "execution_count": 13,
      "outputs": [
        {
          "output_type": "execute_result",
          "data": {
            "text/html": [
              "<div>\n",
              "<style scoped>\n",
              "    .dataframe tbody tr th:only-of-type {\n",
              "        vertical-align: middle;\n",
              "    }\n",
              "\n",
              "    .dataframe tbody tr th {\n",
              "        vertical-align: top;\n",
              "    }\n",
              "\n",
              "    .dataframe thead th {\n",
              "        text-align: right;\n",
              "    }\n",
              "</style>\n",
              "<table border=\"1\" class=\"dataframe\">\n",
              "  <thead>\n",
              "    <tr style=\"text-align: right;\">\n",
              "      <th></th>\n",
              "      <th>id</th>\n",
              "      <th>cont1</th>\n",
              "      <th>cont2</th>\n",
              "      <th>cont3</th>\n",
              "      <th>cont4</th>\n",
              "      <th>cont5</th>\n",
              "      <th>cont6</th>\n",
              "      <th>cont7</th>\n",
              "      <th>cont8</th>\n",
              "      <th>cont9</th>\n",
              "      <th>cont10</th>\n",
              "      <th>cont11</th>\n",
              "      <th>cont12</th>\n",
              "      <th>cont13</th>\n",
              "      <th>cont14</th>\n",
              "      <th>target</th>\n",
              "    </tr>\n",
              "  </thead>\n",
              "  <tbody>\n",
              "    <tr>\n",
              "      <th>0</th>\n",
              "      <td>1</td>\n",
              "      <td>0.670390</td>\n",
              "      <td>0.811300</td>\n",
              "      <td>0.643968</td>\n",
              "      <td>0.291791</td>\n",
              "      <td>0.284117</td>\n",
              "      <td>0.855953</td>\n",
              "      <td>0.890700</td>\n",
              "      <td>0.285542</td>\n",
              "      <td>0.558245</td>\n",
              "      <td>0.779418</td>\n",
              "      <td>0.921832</td>\n",
              "      <td>0.866772</td>\n",
              "      <td>0.878733</td>\n",
              "      <td>0.305411</td>\n",
              "      <td>7.243043</td>\n",
              "    </tr>\n",
              "    <tr>\n",
              "      <th>1</th>\n",
              "      <td>3</td>\n",
              "      <td>0.388053</td>\n",
              "      <td>0.621104</td>\n",
              "      <td>0.686102</td>\n",
              "      <td>0.501149</td>\n",
              "      <td>0.643790</td>\n",
              "      <td>0.449805</td>\n",
              "      <td>0.510824</td>\n",
              "      <td>0.580748</td>\n",
              "      <td>0.418335</td>\n",
              "      <td>0.432632</td>\n",
              "      <td>0.439872</td>\n",
              "      <td>0.434971</td>\n",
              "      <td>0.369957</td>\n",
              "      <td>0.369484</td>\n",
              "      <td>8.203331</td>\n",
              "    </tr>\n",
              "    <tr>\n",
              "      <th>2</th>\n",
              "      <td>4</td>\n",
              "      <td>0.834950</td>\n",
              "      <td>0.227436</td>\n",
              "      <td>0.301584</td>\n",
              "      <td>0.293408</td>\n",
              "      <td>0.606839</td>\n",
              "      <td>0.829175</td>\n",
              "      <td>0.506143</td>\n",
              "      <td>0.558771</td>\n",
              "      <td>0.587603</td>\n",
              "      <td>0.823312</td>\n",
              "      <td>0.567007</td>\n",
              "      <td>0.677708</td>\n",
              "      <td>0.882938</td>\n",
              "      <td>0.303047</td>\n",
              "      <td>7.776091</td>\n",
              "    </tr>\n",
              "    <tr>\n",
              "      <th>3</th>\n",
              "      <td>5</td>\n",
              "      <td>0.820708</td>\n",
              "      <td>0.160155</td>\n",
              "      <td>0.546887</td>\n",
              "      <td>0.726104</td>\n",
              "      <td>0.282444</td>\n",
              "      <td>0.785108</td>\n",
              "      <td>0.752758</td>\n",
              "      <td>0.823267</td>\n",
              "      <td>0.574466</td>\n",
              "      <td>0.580843</td>\n",
              "      <td>0.769594</td>\n",
              "      <td>0.818143</td>\n",
              "      <td>0.914281</td>\n",
              "      <td>0.279528</td>\n",
              "      <td>6.957716</td>\n",
              "    </tr>\n",
              "    <tr>\n",
              "      <th>4</th>\n",
              "      <td>8</td>\n",
              "      <td>0.935278</td>\n",
              "      <td>0.421235</td>\n",
              "      <td>0.303801</td>\n",
              "      <td>0.880214</td>\n",
              "      <td>0.665610</td>\n",
              "      <td>0.830131</td>\n",
              "      <td>0.487113</td>\n",
              "      <td>0.604157</td>\n",
              "      <td>0.874658</td>\n",
              "      <td>0.863427</td>\n",
              "      <td>0.983575</td>\n",
              "      <td>0.900464</td>\n",
              "      <td>0.935918</td>\n",
              "      <td>0.435772</td>\n",
              "      <td>7.951046</td>\n",
              "    </tr>\n",
              "  </tbody>\n",
              "</table>\n",
              "</div>"
            ],
            "text/plain": [
              "   id     cont1     cont2     cont3  ...    cont12    cont13    cont14    target\n",
              "0   1  0.670390  0.811300  0.643968  ...  0.866772  0.878733  0.305411  7.243043\n",
              "1   3  0.388053  0.621104  0.686102  ...  0.434971  0.369957  0.369484  8.203331\n",
              "2   4  0.834950  0.227436  0.301584  ...  0.677708  0.882938  0.303047  7.776091\n",
              "3   5  0.820708  0.160155  0.546887  ...  0.818143  0.914281  0.279528  6.957716\n",
              "4   8  0.935278  0.421235  0.303801  ...  0.900464  0.935918  0.435772  7.951046\n",
              "\n",
              "[5 rows x 16 columns]"
            ]
          },
          "metadata": {
            "tags": []
          },
          "execution_count": 13
        }
      ]
    },
    {
      "cell_type": "code",
      "metadata": {
        "colab": {
          "base_uri": "https://localhost:8080/"
        },
        "id": "8NKkSagHNMrW",
        "outputId": "2708b128-6be8-4aa2-a09f-a7c8c095a05a"
      },
      "source": [
        "train_df.shape"
      ],
      "execution_count": 14,
      "outputs": [
        {
          "output_type": "execute_result",
          "data": {
            "text/plain": [
              "(300000, 16)"
            ]
          },
          "metadata": {
            "tags": []
          },
          "execution_count": 14
        }
      ]
    },
    {
      "cell_type": "code",
      "metadata": {
        "colab": {
          "base_uri": "https://localhost:8080/"
        },
        "id": "CFcPfBGXNO7K",
        "outputId": "04827293-9d6b-4fc4-9374-c60aec2dc356"
      },
      "source": [
        "train_df.columns"
      ],
      "execution_count": 15,
      "outputs": [
        {
          "output_type": "execute_result",
          "data": {
            "text/plain": [
              "Index(['id', 'cont1', 'cont2', 'cont3', 'cont4', 'cont5', 'cont6', 'cont7',\n",
              "       'cont8', 'cont9', 'cont10', 'cont11', 'cont12', 'cont13', 'cont14',\n",
              "       'target'],\n",
              "      dtype='object')"
            ]
          },
          "metadata": {
            "tags": []
          },
          "execution_count": 15
        }
      ]
    },
    {
      "cell_type": "code",
      "metadata": {
        "colab": {
          "base_uri": "https://localhost:8080/"
        },
        "id": "U7U5EYxMNPoO",
        "outputId": "30548ceb-52a2-4e6b-dc12-491a78669f52"
      },
      "source": [
        "train_df.info()"
      ],
      "execution_count": 16,
      "outputs": [
        {
          "output_type": "stream",
          "text": [
            "<class 'pandas.core.frame.DataFrame'>\n",
            "RangeIndex: 300000 entries, 0 to 299999\n",
            "Data columns (total 16 columns):\n",
            " #   Column  Non-Null Count   Dtype  \n",
            "---  ------  --------------   -----  \n",
            " 0   id      300000 non-null  int64  \n",
            " 1   cont1   300000 non-null  float64\n",
            " 2   cont2   300000 non-null  float64\n",
            " 3   cont3   300000 non-null  float64\n",
            " 4   cont4   300000 non-null  float64\n",
            " 5   cont5   300000 non-null  float64\n",
            " 6   cont6   300000 non-null  float64\n",
            " 7   cont7   300000 non-null  float64\n",
            " 8   cont8   300000 non-null  float64\n",
            " 9   cont9   300000 non-null  float64\n",
            " 10  cont10  300000 non-null  float64\n",
            " 11  cont11  300000 non-null  float64\n",
            " 12  cont12  300000 non-null  float64\n",
            " 13  cont13  300000 non-null  float64\n",
            " 14  cont14  300000 non-null  float64\n",
            " 15  target  300000 non-null  float64\n",
            "dtypes: float64(15), int64(1)\n",
            "memory usage: 36.6 MB\n"
          ],
          "name": "stdout"
        }
      ]
    },
    {
      "cell_type": "code",
      "metadata": {
        "colab": {
          "base_uri": "https://localhost:8080/",
          "height": 521
        },
        "id": "qpof1cxhNPtI",
        "outputId": "6782753e-e73a-49d6-ac0d-2b749ffc0ba1"
      },
      "source": [
        "train_df.describe().T"
      ],
      "execution_count": 17,
      "outputs": [
        {
          "output_type": "execute_result",
          "data": {
            "text/html": [
              "<div>\n",
              "<style scoped>\n",
              "    .dataframe tbody tr th:only-of-type {\n",
              "        vertical-align: middle;\n",
              "    }\n",
              "\n",
              "    .dataframe tbody tr th {\n",
              "        vertical-align: top;\n",
              "    }\n",
              "\n",
              "    .dataframe thead th {\n",
              "        text-align: right;\n",
              "    }\n",
              "</style>\n",
              "<table border=\"1\" class=\"dataframe\">\n",
              "  <thead>\n",
              "    <tr style=\"text-align: right;\">\n",
              "      <th></th>\n",
              "      <th>count</th>\n",
              "      <th>mean</th>\n",
              "      <th>std</th>\n",
              "      <th>min</th>\n",
              "      <th>25%</th>\n",
              "      <th>50%</th>\n",
              "      <th>75%</th>\n",
              "      <th>max</th>\n",
              "    </tr>\n",
              "  </thead>\n",
              "  <tbody>\n",
              "    <tr>\n",
              "      <th>id</th>\n",
              "      <td>300000.0</td>\n",
              "      <td>249825.145857</td>\n",
              "      <td>144476.732562</td>\n",
              "      <td>1.000000</td>\n",
              "      <td>124656.500000</td>\n",
              "      <td>249738.500000</td>\n",
              "      <td>374836.250000</td>\n",
              "      <td>499999.000000</td>\n",
              "    </tr>\n",
              "    <tr>\n",
              "      <th>cont1</th>\n",
              "      <td>300000.0</td>\n",
              "      <td>0.506873</td>\n",
              "      <td>0.203976</td>\n",
              "      <td>-0.082263</td>\n",
              "      <td>0.343078</td>\n",
              "      <td>0.484005</td>\n",
              "      <td>0.643789</td>\n",
              "      <td>1.016227</td>\n",
              "    </tr>\n",
              "    <tr>\n",
              "      <th>cont2</th>\n",
              "      <td>300000.0</td>\n",
              "      <td>0.497898</td>\n",
              "      <td>0.228159</td>\n",
              "      <td>-0.031397</td>\n",
              "      <td>0.319170</td>\n",
              "      <td>0.553209</td>\n",
              "      <td>0.731263</td>\n",
              "      <td>0.859697</td>\n",
              "    </tr>\n",
              "    <tr>\n",
              "      <th>cont3</th>\n",
              "      <td>300000.0</td>\n",
              "      <td>0.521557</td>\n",
              "      <td>0.200770</td>\n",
              "      <td>0.020967</td>\n",
              "      <td>0.344096</td>\n",
              "      <td>0.551471</td>\n",
              "      <td>0.648315</td>\n",
              "      <td>1.006955</td>\n",
              "    </tr>\n",
              "    <tr>\n",
              "      <th>cont4</th>\n",
              "      <td>300000.0</td>\n",
              "      <td>0.515683</td>\n",
              "      <td>0.233035</td>\n",
              "      <td>0.152761</td>\n",
              "      <td>0.294935</td>\n",
              "      <td>0.482880</td>\n",
              "      <td>0.748705</td>\n",
              "      <td>1.010402</td>\n",
              "    </tr>\n",
              "    <tr>\n",
              "      <th>cont5</th>\n",
              "      <td>300000.0</td>\n",
              "      <td>0.502022</td>\n",
              "      <td>0.220701</td>\n",
              "      <td>0.276377</td>\n",
              "      <td>0.284108</td>\n",
              "      <td>0.451733</td>\n",
              "      <td>0.670660</td>\n",
              "      <td>1.034261</td>\n",
              "    </tr>\n",
              "    <tr>\n",
              "      <th>cont6</th>\n",
              "      <td>300000.0</td>\n",
              "      <td>0.526515</td>\n",
              "      <td>0.217909</td>\n",
              "      <td>0.066166</td>\n",
              "      <td>0.356163</td>\n",
              "      <td>0.470988</td>\n",
              "      <td>0.694043</td>\n",
              "      <td>1.043858</td>\n",
              "    </tr>\n",
              "    <tr>\n",
              "      <th>cont7</th>\n",
              "      <td>300000.0</td>\n",
              "      <td>0.487890</td>\n",
              "      <td>0.181096</td>\n",
              "      <td>-0.097666</td>\n",
              "      <td>0.346600</td>\n",
              "      <td>0.466825</td>\n",
              "      <td>0.581292</td>\n",
              "      <td>1.066167</td>\n",
              "    </tr>\n",
              "    <tr>\n",
              "      <th>cont8</th>\n",
              "      <td>300000.0</td>\n",
              "      <td>0.525163</td>\n",
              "      <td>0.216221</td>\n",
              "      <td>0.217260</td>\n",
              "      <td>0.341486</td>\n",
              "      <td>0.483460</td>\n",
              "      <td>0.685250</td>\n",
              "      <td>1.024427</td>\n",
              "    </tr>\n",
              "    <tr>\n",
              "      <th>cont9</th>\n",
              "      <td>300000.0</td>\n",
              "      <td>0.459857</td>\n",
              "      <td>0.196685</td>\n",
              "      <td>-0.240604</td>\n",
              "      <td>0.330832</td>\n",
              "      <td>0.416843</td>\n",
              "      <td>0.575041</td>\n",
              "      <td>1.004114</td>\n",
              "    </tr>\n",
              "    <tr>\n",
              "      <th>cont10</th>\n",
              "      <td>300000.0</td>\n",
              "      <td>0.520532</td>\n",
              "      <td>0.201854</td>\n",
              "      <td>-0.085046</td>\n",
              "      <td>0.375465</td>\n",
              "      <td>0.458877</td>\n",
              "      <td>0.700292</td>\n",
              "      <td>1.199951</td>\n",
              "    </tr>\n",
              "    <tr>\n",
              "      <th>cont11</th>\n",
              "      <td>300000.0</td>\n",
              "      <td>0.483926</td>\n",
              "      <td>0.220082</td>\n",
              "      <td>0.083277</td>\n",
              "      <td>0.300474</td>\n",
              "      <td>0.441916</td>\n",
              "      <td>0.679128</td>\n",
              "      <td>1.022620</td>\n",
              "    </tr>\n",
              "    <tr>\n",
              "      <th>cont12</th>\n",
              "      <td>300000.0</td>\n",
              "      <td>0.506877</td>\n",
              "      <td>0.218947</td>\n",
              "      <td>0.088635</td>\n",
              "      <td>0.310166</td>\n",
              "      <td>0.486599</td>\n",
              "      <td>0.694453</td>\n",
              "      <td>1.049025</td>\n",
              "    </tr>\n",
              "    <tr>\n",
              "      <th>cont13</th>\n",
              "      <td>300000.0</td>\n",
              "      <td>0.553442</td>\n",
              "      <td>0.229730</td>\n",
              "      <td>0.029950</td>\n",
              "      <td>0.350472</td>\n",
              "      <td>0.487707</td>\n",
              "      <td>0.768479</td>\n",
              "      <td>0.977845</td>\n",
              "    </tr>\n",
              "    <tr>\n",
              "      <th>cont14</th>\n",
              "      <td>300000.0</td>\n",
              "      <td>0.503713</td>\n",
              "      <td>0.208238</td>\n",
              "      <td>0.166367</td>\n",
              "      <td>0.308673</td>\n",
              "      <td>0.431845</td>\n",
              "      <td>0.712653</td>\n",
              "      <td>0.868506</td>\n",
              "    </tr>\n",
              "    <tr>\n",
              "      <th>target</th>\n",
              "      <td>300000.0</td>\n",
              "      <td>7.905661</td>\n",
              "      <td>0.733071</td>\n",
              "      <td>0.000000</td>\n",
              "      <td>7.329367</td>\n",
              "      <td>7.940571</td>\n",
              "      <td>8.470084</td>\n",
              "      <td>10.267569</td>\n",
              "    </tr>\n",
              "  </tbody>\n",
              "</table>\n",
              "</div>"
            ],
            "text/plain": [
              "           count           mean  ...            75%            max\n",
              "id      300000.0  249825.145857  ...  374836.250000  499999.000000\n",
              "cont1   300000.0       0.506873  ...       0.643789       1.016227\n",
              "cont2   300000.0       0.497898  ...       0.731263       0.859697\n",
              "cont3   300000.0       0.521557  ...       0.648315       1.006955\n",
              "cont4   300000.0       0.515683  ...       0.748705       1.010402\n",
              "cont5   300000.0       0.502022  ...       0.670660       1.034261\n",
              "cont6   300000.0       0.526515  ...       0.694043       1.043858\n",
              "cont7   300000.0       0.487890  ...       0.581292       1.066167\n",
              "cont8   300000.0       0.525163  ...       0.685250       1.024427\n",
              "cont9   300000.0       0.459857  ...       0.575041       1.004114\n",
              "cont10  300000.0       0.520532  ...       0.700292       1.199951\n",
              "cont11  300000.0       0.483926  ...       0.679128       1.022620\n",
              "cont12  300000.0       0.506877  ...       0.694453       1.049025\n",
              "cont13  300000.0       0.553442  ...       0.768479       0.977845\n",
              "cont14  300000.0       0.503713  ...       0.712653       0.868506\n",
              "target  300000.0       7.905661  ...       8.470084      10.267569\n",
              "\n",
              "[16 rows x 8 columns]"
            ]
          },
          "metadata": {
            "tags": []
          },
          "execution_count": 17
        }
      ]
    },
    {
      "cell_type": "code",
      "metadata": {
        "colab": {
          "base_uri": "https://localhost:8080/"
        },
        "id": "lhJFTGIqNPw5",
        "outputId": "2ba07f9a-f93e-41c6-80c5-349daea7c024"
      },
      "source": [
        "feature_cols = train_df.drop(['id', 'target'], axis=1).columns\r\n",
        "\r\n",
        "x = train_df[feature_cols]\r\n",
        "y = train_df['target']\r\n",
        "\r\n",
        "print(x.shape, y.shape)"
      ],
      "execution_count": 18,
      "outputs": [
        {
          "output_type": "stream",
          "text": [
            "(300000, 14) (300000,)\n"
          ],
          "name": "stdout"
        }
      ]
    },
    {
      "cell_type": "code",
      "metadata": {
        "colab": {
          "base_uri": "https://localhost:8080/"
        },
        "id": "0tL57gDlf7-c",
        "outputId": "a716f761-e7cf-4815-8aa5-e3a545e855ed"
      },
      "source": [
        "param_grid = {\r\n",
        "    'n_estimators': [5, 10, 15, 20],\r\n",
        "    'max_depth': [2, 5, 7, 9]\r\n",
        "}\r\n",
        "\r\n",
        "x_train, x_test, y_train, y_test = train_test_split(x, y, test_size=0.3, random_state=42)\r\n",
        "\r\n",
        "# Instantiate model with 100 decision trees\r\n",
        "clf = xgb.XGBRegressor(random_state = 42)\r\n",
        "\r\n",
        "clf.fit(x_train, y_train)"
      ],
      "execution_count": 19,
      "outputs": [
        {
          "output_type": "stream",
          "text": [
            "[15:50:32] WARNING: /workspace/src/objective/regression_obj.cu:152: reg:linear is now deprecated in favor of reg:squarederror.\n"
          ],
          "name": "stdout"
        },
        {
          "output_type": "execute_result",
          "data": {
            "text/plain": [
              "XGBRegressor(base_score=0.5, booster='gbtree', colsample_bylevel=1,\n",
              "             colsample_bynode=1, colsample_bytree=1, gamma=0,\n",
              "             importance_type='gain', learning_rate=0.1, max_delta_step=0,\n",
              "             max_depth=3, min_child_weight=1, missing=None, n_estimators=100,\n",
              "             n_jobs=1, nthread=None, objective='reg:linear', random_state=42,\n",
              "             reg_alpha=0, reg_lambda=1, scale_pos_weight=1, seed=None,\n",
              "             silent=None, subsample=1, verbosity=1)"
            ]
          },
          "metadata": {
            "tags": []
          },
          "execution_count": 19
        }
      ]
    },
    {
      "cell_type": "code",
      "metadata": {
        "colab": {
          "base_uri": "https://localhost:8080/"
        },
        "id": "iqmWPLdJgGgx",
        "outputId": "d304cfdf-098e-47b2-9b65-5e81c83221ad"
      },
      "source": [
        "# Use the forest's predict method on the test data\r\n",
        "predictions = clf.predict(x_test)\r\n",
        "\r\n",
        "# Calculate the absolute errors\r\n",
        "errors = abs(predictions - y_test)\r\n",
        "\r\n",
        "# Print out the mean absolute error (mae)\r\n",
        "print('Mean Absolute Error:', round(np.mean(errors), 2), 'degrees.')"
      ],
      "execution_count": 20,
      "outputs": [
        {
          "output_type": "stream",
          "text": [
            "Mean Absolute Error: 0.6 degrees.\n"
          ],
          "name": "stdout"
        }
      ]
    },
    {
      "cell_type": "code",
      "metadata": {
        "id": "lQeFjIKFgi3c"
      },
      "source": [
        "def objective(trial,data=x,target=y):\r\n",
        "    \r\n",
        "    train_x, test_x, train_y, test_y = train_test_split(data, target, test_size=0.15,random_state=42)\r\n",
        "    \r\n",
        "    # To select which parameters to optimize, please look at the XGBoost documentation:\r\n",
        "    # https://xgboost.readthedocs.io/en/latest/parameter.html\r\n",
        "    param = {\r\n",
        "        'tree_method':'gpu_hist',  # Use GPU acceleration\r\n",
        "        'lambda': trial.suggest_loguniform(\r\n",
        "            'lambda', 1e-3, 10.0\r\n",
        "        ),\r\n",
        "        'alpha': trial.suggest_loguniform(\r\n",
        "            'alpha', 1e-3, 10.0\r\n",
        "        ),\r\n",
        "        'colsample_bytree': trial.suggest_categorical(\r\n",
        "            'colsample_bytree', [0.5,0.6,0.7,0.8,0.9,1.0]\r\n",
        "        ),\r\n",
        "        'subsample': trial.suggest_categorical(\r\n",
        "            'subsample', [0.6,0.7,0.8,1.0]\r\n",
        "        ),\r\n",
        "        'learning_rate': trial.suggest_categorical(\r\n",
        "            'learning_rate', [0.008,0.009,0.01,0.012,0.014,0.016,0.018, 0.02]\r\n",
        "        ),\r\n",
        "        'n_estimators': trial.suggest_categorical(\r\n",
        "            \"n_estimators\", [150, 200, 300, 3000]\r\n",
        "        ),\r\n",
        "        'max_depth': trial.suggest_categorical(\r\n",
        "            'max_depth', [4,5,7,9,11,13,15,17]\r\n",
        "        ),\r\n",
        "        'random_state': 42,\r\n",
        "        'min_child_weight': trial.suggest_int(\r\n",
        "            'min_child_weight', 1, 300\r\n",
        "        ),\r\n",
        "    }\r\n",
        "    model = xgb.XGBRegressor(**param)  \r\n",
        "    \r\n",
        "    model.fit(train_x,train_y,eval_set=[(test_x,test_y)],early_stopping_rounds=100,verbose=False)\r\n",
        "    \r\n",
        "    preds = model.predict(test_x)\r\n",
        "    \r\n",
        "    rmse = mean_squared_error(test_y, preds,squared=False)\r\n",
        "    \r\n",
        "    return rmse"
      ],
      "execution_count": 21,
      "outputs": []
    },
    {
      "cell_type": "code",
      "metadata": {
        "colab": {
          "base_uri": "https://localhost:8080/"
        },
        "id": "_68lpDivHGKg",
        "outputId": "799d0262-dc88-4295-df76-9d3a7c5aac28"
      },
      "source": [
        "study = optuna.create_study(direction='minimize')\r\n",
        "study.optimize(objective, n_trials=25)\r\n",
        "print('Number of finished trials:', len(study.trials))\r\n",
        "print('Best trial:', study.best_trial.params)\r\n"
      ],
      "execution_count": 24,
      "outputs": [
        {
          "output_type": "stream",
          "text": [
            "\u001b[32m[I 2021-01-31 15:52:37,234]\u001b[0m A new study created in memory with name: no-name-2b077543-1b54-42c5-b275-5806e5f57e2c\u001b[0m\n"
          ],
          "name": "stderr"
        },
        {
          "output_type": "stream",
          "text": [
            "[15:52:37] WARNING: /workspace/src/objective/regression_obj.cu:152: reg:linear is now deprecated in favor of reg:squarederror.\n"
          ],
          "name": "stdout"
        },
        {
          "output_type": "stream",
          "text": [
            "\u001b[32m[I 2021-01-31 15:52:41,208]\u001b[0m Trial 0 finished with value: 0.8582729655857633 and parameters: {'lambda': 3.1405930056653766, 'alpha': 1.1260925251638223, 'colsample_bytree': 0.5, 'subsample': 0.8, 'learning_rate': 0.018, 'n_estimators': 150, 'max_depth': 13, 'min_child_weight': 238}. Best is trial 0 with value: 0.8582729655857633.\u001b[0m\n"
          ],
          "name": "stderr"
        },
        {
          "output_type": "stream",
          "text": [
            "[15:52:41] WARNING: /workspace/src/objective/regression_obj.cu:152: reg:linear is now deprecated in favor of reg:squarederror.\n"
          ],
          "name": "stdout"
        },
        {
          "output_type": "stream",
          "text": [
            "\u001b[32m[I 2021-01-31 15:52:43,209]\u001b[0m Trial 1 finished with value: 0.9805189257722055 and parameters: {'lambda': 0.2070427922644511, 'alpha': 2.8713128666404284, 'colsample_bytree': 1.0, 'subsample': 1.0, 'learning_rate': 0.008, 'n_estimators': 300, 'max_depth': 4, 'min_child_weight': 224}. Best is trial 0 with value: 0.8582729655857633.\u001b[0m\n"
          ],
          "name": "stderr"
        },
        {
          "output_type": "stream",
          "text": [
            "[15:52:43] WARNING: /workspace/src/objective/regression_obj.cu:152: reg:linear is now deprecated in favor of reg:squarederror.\n"
          ],
          "name": "stdout"
        },
        {
          "output_type": "stream",
          "text": [
            "\u001b[32m[I 2021-01-31 15:53:06,509]\u001b[0m Trial 2 finished with value: 0.8655242995310545 and parameters: {'lambda': 0.007818576708060219, 'alpha': 0.004313885099674506, 'colsample_bytree': 0.8, 'subsample': 0.7, 'learning_rate': 0.018, 'n_estimators': 150, 'max_depth': 15, 'min_child_weight': 1}. Best is trial 0 with value: 0.8582729655857633.\u001b[0m\n"
          ],
          "name": "stderr"
        },
        {
          "output_type": "stream",
          "text": [
            "[15:53:06] WARNING: /workspace/src/objective/regression_obj.cu:152: reg:linear is now deprecated in favor of reg:squarederror.\n"
          ],
          "name": "stdout"
        },
        {
          "output_type": "stream",
          "text": [
            "\u001b[32m[I 2021-01-31 15:53:11,446]\u001b[0m Trial 3 finished with value: 0.6989161316319584 and parameters: {'lambda': 0.13437452560118374, 'alpha': 0.004065014334702235, 'colsample_bytree': 0.9, 'subsample': 0.8, 'learning_rate': 0.02, 'n_estimators': 300, 'max_depth': 9, 'min_child_weight': 98}. Best is trial 3 with value: 0.6989161316319584.\u001b[0m\n"
          ],
          "name": "stderr"
        },
        {
          "output_type": "stream",
          "text": [
            "[15:53:11] WARNING: /workspace/src/objective/regression_obj.cu:152: reg:linear is now deprecated in favor of reg:squarederror.\n"
          ],
          "name": "stdout"
        },
        {
          "output_type": "stream",
          "text": [
            "\u001b[32m[I 2021-01-31 15:53:14,579]\u001b[0m Trial 4 finished with value: 0.7020865959426636 and parameters: {'lambda': 0.37688784701654726, 'alpha': 7.0252112405882, 'colsample_bytree': 0.9, 'subsample': 1.0, 'learning_rate': 0.02, 'n_estimators': 300, 'max_depth': 7, 'min_child_weight': 126}. Best is trial 3 with value: 0.6989161316319584.\u001b[0m\n"
          ],
          "name": "stderr"
        },
        {
          "output_type": "stream",
          "text": [
            "[15:53:14] WARNING: /workspace/src/objective/regression_obj.cu:152: reg:linear is now deprecated in favor of reg:squarederror.\n"
          ],
          "name": "stdout"
        },
        {
          "output_type": "stream",
          "text": [
            "\u001b[32m[I 2021-01-31 15:53:18,750]\u001b[0m Trial 5 finished with value: 0.7637551914025958 and parameters: {'lambda': 0.01631601026056151, 'alpha': 0.3776580220731512, 'colsample_bytree': 0.5, 'subsample': 0.8, 'learning_rate': 0.016, 'n_estimators': 200, 'max_depth': 11, 'min_child_weight': 245}. Best is trial 3 with value: 0.6989161316319584.\u001b[0m\n"
          ],
          "name": "stderr"
        },
        {
          "output_type": "stream",
          "text": [
            "[15:53:18] WARNING: /workspace/src/objective/regression_obj.cu:152: reg:linear is now deprecated in favor of reg:squarederror.\n"
          ],
          "name": "stdout"
        },
        {
          "output_type": "stream",
          "text": [
            "\u001b[32m[I 2021-01-31 15:53:21,069]\u001b[0m Trial 6 finished with value: 2.0428457647313683 and parameters: {'lambda': 0.0031926795528427723, 'alpha': 0.006219815589458687, 'colsample_bytree': 1.0, 'subsample': 0.7, 'learning_rate': 0.009, 'n_estimators': 150, 'max_depth': 13, 'min_child_weight': 205}. Best is trial 3 with value: 0.6989161316319584.\u001b[0m\n"
          ],
          "name": "stderr"
        },
        {
          "output_type": "stream",
          "text": [
            "[15:53:21] WARNING: /workspace/src/objective/regression_obj.cu:152: reg:linear is now deprecated in favor of reg:squarederror.\n"
          ],
          "name": "stdout"
        },
        {
          "output_type": "stream",
          "text": [
            "\u001b[32m[I 2021-01-31 15:54:02,454]\u001b[0m Trial 7 finished with value: 0.6954182412433655 and parameters: {'lambda': 5.252848113354831, 'alpha': 0.017999181730957124, 'colsample_bytree': 0.9, 'subsample': 0.8, 'learning_rate': 0.02, 'n_estimators': 3000, 'max_depth': 13, 'min_child_weight': 23}. Best is trial 7 with value: 0.6954182412433655.\u001b[0m\n"
          ],
          "name": "stderr"
        },
        {
          "output_type": "stream",
          "text": [
            "[15:54:02] WARNING: /workspace/src/objective/regression_obj.cu:152: reg:linear is now deprecated in favor of reg:squarederror.\n"
          ],
          "name": "stdout"
        },
        {
          "output_type": "stream",
          "text": [
            "\u001b[32m[I 2021-01-31 15:54:22,443]\u001b[0m Trial 8 finished with value: 0.6957573186114845 and parameters: {'lambda': 0.0011552207121172488, 'alpha': 0.07673788064918045, 'colsample_bytree': 0.7, 'subsample': 0.7, 'learning_rate': 0.016, 'n_estimators': 3000, 'max_depth': 5, 'min_child_weight': 232}. Best is trial 7 with value: 0.6954182412433655.\u001b[0m\n"
          ],
          "name": "stderr"
        },
        {
          "output_type": "stream",
          "text": [
            "[15:54:22] WARNING: /workspace/src/objective/regression_obj.cu:152: reg:linear is now deprecated in favor of reg:squarederror.\n"
          ],
          "name": "stdout"
        },
        {
          "output_type": "stream",
          "text": [
            "\u001b[32m[I 2021-01-31 15:54:25,351]\u001b[0m Trial 9 finished with value: 0.9691468161436685 and parameters: {'lambda': 1.2004044010197525, 'alpha': 0.03154552897179685, 'colsample_bytree': 1.0, 'subsample': 0.8, 'learning_rate': 0.016, 'n_estimators': 150, 'max_depth': 11, 'min_child_weight': 270}. Best is trial 7 with value: 0.6954182412433655.\u001b[0m\n"
          ],
          "name": "stderr"
        },
        {
          "output_type": "stream",
          "text": [
            "[15:54:25] WARNING: /workspace/src/objective/regression_obj.cu:152: reg:linear is now deprecated in favor of reg:squarederror.\n"
          ],
          "name": "stdout"
        },
        {
          "output_type": "stream",
          "text": [
            "\u001b[32m[I 2021-01-31 15:58:45,760]\u001b[0m Trial 10 finished with value: 0.6967100917060413 and parameters: {'lambda': 3.7444124906082954, 'alpha': 0.02265989017236122, 'colsample_bytree': 0.6, 'subsample': 0.6, 'learning_rate': 0.014, 'n_estimators': 3000, 'max_depth': 17, 'min_child_weight': 3}. Best is trial 7 with value: 0.6954182412433655.\u001b[0m\n"
          ],
          "name": "stderr"
        },
        {
          "output_type": "stream",
          "text": [
            "[15:58:45] WARNING: /workspace/src/objective/regression_obj.cu:152: reg:linear is now deprecated in favor of reg:squarederror.\n"
          ],
          "name": "stdout"
        },
        {
          "output_type": "stream",
          "text": [
            "\u001b[32m[I 2021-01-31 15:59:06,063]\u001b[0m Trial 11 finished with value: 0.6962099742748517 and parameters: {'lambda': 0.0010492820074907373, 'alpha': 0.09052776118981794, 'colsample_bytree': 0.7, 'subsample': 0.7, 'learning_rate': 0.012, 'n_estimators': 3000, 'max_depth': 5, 'min_child_weight': 61}. Best is trial 7 with value: 0.6954182412433655.\u001b[0m\n"
          ],
          "name": "stderr"
        },
        {
          "output_type": "stream",
          "text": [
            "[15:59:06] WARNING: /workspace/src/objective/regression_obj.cu:152: reg:linear is now deprecated in favor of reg:squarederror.\n"
          ],
          "name": "stdout"
        },
        {
          "output_type": "stream",
          "text": [
            "\u001b[32m[I 2021-01-31 15:59:26,107]\u001b[0m Trial 12 finished with value: 0.6967822639861462 and parameters: {'lambda': 0.03340762631514681, 'alpha': 0.19180856008182007, 'colsample_bytree': 0.7, 'subsample': 0.6, 'learning_rate': 0.01, 'n_estimators': 3000, 'max_depth': 5, 'min_child_weight': 179}. Best is trial 7 with value: 0.6954182412433655.\u001b[0m\n"
          ],
          "name": "stderr"
        },
        {
          "output_type": "stream",
          "text": [
            "[15:59:26] WARNING: /workspace/src/objective/regression_obj.cu:152: reg:linear is now deprecated in favor of reg:squarederror.\n"
          ],
          "name": "stdout"
        },
        {
          "output_type": "stream",
          "text": [
            "\u001b[32m[I 2021-01-31 15:59:45,918]\u001b[0m Trial 13 finished with value: 0.695478985334563 and parameters: {'lambda': 0.0010835805749631368, 'alpha': 0.0210635232309854, 'colsample_bytree': 0.7, 'subsample': 0.7, 'learning_rate': 0.02, 'n_estimators': 3000, 'max_depth': 5, 'min_child_weight': 297}. Best is trial 7 with value: 0.6954182412433655.\u001b[0m\n"
          ],
          "name": "stderr"
        },
        {
          "output_type": "stream",
          "text": [
            "[15:59:46] WARNING: /workspace/src/objective/regression_obj.cu:152: reg:linear is now deprecated in favor of reg:squarederror.\n"
          ],
          "name": "stdout"
        },
        {
          "output_type": "stream",
          "text": [
            "\u001b[32m[I 2021-01-31 16:00:14,997]\u001b[0m Trial 14 finished with value: 0.6947502294340568 and parameters: {'lambda': 1.0326857339482682, 'alpha': 0.023627177410841783, 'colsample_bytree': 0.9, 'subsample': 0.7, 'learning_rate': 0.02, 'n_estimators': 3000, 'max_depth': 13, 'min_child_weight': 55}. Best is trial 14 with value: 0.6947502294340568.\u001b[0m\n"
          ],
          "name": "stderr"
        },
        {
          "output_type": "stream",
          "text": [
            "[16:00:15] WARNING: /workspace/src/objective/regression_obj.cu:152: reg:linear is now deprecated in favor of reg:squarederror.\n"
          ],
          "name": "stdout"
        },
        {
          "output_type": "stream",
          "text": [
            "\u001b[32m[I 2021-01-31 16:00:24,832]\u001b[0m Trial 15 finished with value: 0.7112828929396691 and parameters: {'lambda': 9.542449126440134, 'alpha': 0.0010161730883564604, 'colsample_bytree': 0.9, 'subsample': 0.8, 'learning_rate': 0.02, 'n_estimators': 200, 'max_depth': 13, 'min_child_weight': 41}. Best is trial 14 with value: 0.6947502294340568.\u001b[0m\n"
          ],
          "name": "stderr"
        },
        {
          "output_type": "stream",
          "text": [
            "[16:00:24] WARNING: /workspace/src/objective/regression_obj.cu:152: reg:linear is now deprecated in favor of reg:squarederror.\n"
          ],
          "name": "stdout"
        },
        {
          "output_type": "stream",
          "text": [
            "\u001b[32m[I 2021-01-31 16:00:53,049]\u001b[0m Trial 16 finished with value: 0.6949176755295075 and parameters: {'lambda': 0.7094137873396941, 'alpha': 0.0014742982252321025, 'colsample_bytree': 0.9, 'subsample': 0.8, 'learning_rate': 0.02, 'n_estimators': 3000, 'max_depth': 13, 'min_child_weight': 56}. Best is trial 14 with value: 0.6947502294340568.\u001b[0m\n"
          ],
          "name": "stderr"
        },
        {
          "output_type": "stream",
          "text": [
            "[16:00:53] WARNING: /workspace/src/objective/regression_obj.cu:152: reg:linear is now deprecated in favor of reg:squarederror.\n"
          ],
          "name": "stdout"
        },
        {
          "output_type": "stream",
          "text": [
            "\u001b[32m[I 2021-01-31 16:01:45,378]\u001b[0m Trial 17 finished with value: 0.6940023388226798 and parameters: {'lambda': 0.7323843991422126, 'alpha': 0.0010590923898838645, 'colsample_bytree': 0.9, 'subsample': 0.6, 'learning_rate': 0.009, 'n_estimators': 3000, 'max_depth': 13, 'min_child_weight': 80}. Best is trial 17 with value: 0.6940023388226798.\u001b[0m\n"
          ],
          "name": "stderr"
        },
        {
          "output_type": "stream",
          "text": [
            "[16:01:45] WARNING: /workspace/src/objective/regression_obj.cu:152: reg:linear is now deprecated in favor of reg:squarederror.\n"
          ],
          "name": "stdout"
        },
        {
          "output_type": "stream",
          "text": [
            "\u001b[32m[I 2021-01-31 16:02:13,344]\u001b[0m Trial 18 finished with value: 0.6947678809836204 and parameters: {'lambda': 1.1792756147030874, 'alpha': 0.0012824444944737046, 'colsample_bytree': 0.6, 'subsample': 0.6, 'learning_rate': 0.009, 'n_estimators': 3000, 'max_depth': 7, 'min_child_weight': 99}. Best is trial 17 with value: 0.6940023388226798.\u001b[0m\n"
          ],
          "name": "stderr"
        },
        {
          "output_type": "stream",
          "text": [
            "[16:02:13] WARNING: /workspace/src/objective/regression_obj.cu:152: reg:linear is now deprecated in favor of reg:squarederror.\n"
          ],
          "name": "stdout"
        },
        {
          "output_type": "stream",
          "text": [
            "\u001b[32m[I 2021-01-31 16:02:14,779]\u001b[0m Trial 19 finished with value: 1.4144987677872953 and parameters: {'lambda': 0.056149494960756906, 'alpha': 0.007474490281189833, 'colsample_bytree': 0.9, 'subsample': 0.6, 'learning_rate': 0.009, 'n_estimators': 200, 'max_depth': 4, 'min_child_weight': 85}. Best is trial 17 with value: 0.6940023388226798.\u001b[0m\n"
          ],
          "name": "stderr"
        },
        {
          "output_type": "stream",
          "text": [
            "[16:02:14] WARNING: /workspace/src/objective/regression_obj.cu:152: reg:linear is now deprecated in favor of reg:squarederror.\n"
          ],
          "name": "stdout"
        },
        {
          "output_type": "stream",
          "text": [
            "\u001b[32m[I 2021-01-31 16:03:00,999]\u001b[0m Trial 20 finished with value: 0.6939868526109869 and parameters: {'lambda': 0.37524263531725, 'alpha': 0.4716801243174047, 'colsample_bytree': 0.8, 'subsample': 0.6, 'learning_rate': 0.01, 'n_estimators': 3000, 'max_depth': 15, 'min_child_weight': 144}. Best is trial 20 with value: 0.6939868526109869.\u001b[0m\n"
          ],
          "name": "stderr"
        },
        {
          "output_type": "stream",
          "text": [
            "[16:03:01] WARNING: /workspace/src/objective/regression_obj.cu:152: reg:linear is now deprecated in favor of reg:squarederror.\n"
          ],
          "name": "stdout"
        },
        {
          "output_type": "stream",
          "text": [
            "\u001b[32m[I 2021-01-31 16:03:42,594]\u001b[0m Trial 21 finished with value: 0.694024433816882 and parameters: {'lambda': 0.48849265201646114, 'alpha': 0.7091719515227536, 'colsample_bytree': 0.8, 'subsample': 0.6, 'learning_rate': 0.01, 'n_estimators': 3000, 'max_depth': 13, 'min_child_weight': 144}. Best is trial 20 with value: 0.6939868526109869.\u001b[0m\n"
          ],
          "name": "stderr"
        },
        {
          "output_type": "stream",
          "text": [
            "[16:03:42] WARNING: /workspace/src/objective/regression_obj.cu:152: reg:linear is now deprecated in favor of reg:squarederror.\n"
          ],
          "name": "stdout"
        },
        {
          "output_type": "stream",
          "text": [
            "\u001b[32m[I 2021-01-31 16:04:26,344]\u001b[0m Trial 22 finished with value: 0.6938753178191799 and parameters: {'lambda': 0.36311467811954184, 'alpha': 0.7114423595870062, 'colsample_bytree': 0.8, 'subsample': 0.6, 'learning_rate': 0.01, 'n_estimators': 3000, 'max_depth': 15, 'min_child_weight': 152}. Best is trial 22 with value: 0.6938753178191799.\u001b[0m\n"
          ],
          "name": "stderr"
        },
        {
          "output_type": "stream",
          "text": [
            "[16:04:26] WARNING: /workspace/src/objective/regression_obj.cu:152: reg:linear is now deprecated in favor of reg:squarederror.\n"
          ],
          "name": "stdout"
        },
        {
          "output_type": "stream",
          "text": [
            "\u001b[32m[I 2021-01-31 16:05:06,523]\u001b[0m Trial 23 finished with value: 0.6939268198203813 and parameters: {'lambda': 0.2510369635972826, 'alpha': 2.9259005166978107, 'colsample_bytree': 0.8, 'subsample': 0.6, 'learning_rate': 0.01, 'n_estimators': 3000, 'max_depth': 15, 'min_child_weight': 171}. Best is trial 22 with value: 0.6938753178191799.\u001b[0m\n"
          ],
          "name": "stderr"
        },
        {
          "output_type": "stream",
          "text": [
            "[16:05:06] WARNING: /workspace/src/objective/regression_obj.cu:152: reg:linear is now deprecated in favor of reg:squarederror.\n"
          ],
          "name": "stdout"
        },
        {
          "output_type": "stream",
          "text": [
            "\u001b[32m[I 2021-01-31 16:05:47,324]\u001b[0m Trial 24 finished with value: 0.694067918999114 and parameters: {'lambda': 0.17421852389113557, 'alpha': 2.2602325045063836, 'colsample_bytree': 0.8, 'subsample': 0.6, 'learning_rate': 0.01, 'n_estimators': 3000, 'max_depth': 15, 'min_child_weight': 167}. Best is trial 22 with value: 0.6938753178191799.\u001b[0m\n"
          ],
          "name": "stderr"
        },
        {
          "output_type": "stream",
          "text": [
            "Number of finished trials: 25\n",
            "Best trial: {'lambda': 0.36311467811954184, 'alpha': 0.7114423595870062, 'colsample_bytree': 0.8, 'subsample': 0.6, 'learning_rate': 0.01, 'n_estimators': 3000, 'max_depth': 15, 'min_child_weight': 152}\n"
          ],
          "name": "stdout"
        }
      ]
    },
    {
      "cell_type": "code",
      "metadata": {
        "colab": {
          "base_uri": "https://localhost:8080/",
          "height": 299
        },
        "id": "8vWLlaUiHJS3",
        "outputId": "12a710f0-aab6-4311-bc71-3d7380a87b1d"
      },
      "source": [
        "study.trials_dataframe().head()"
      ],
      "execution_count": 25,
      "outputs": [
        {
          "output_type": "execute_result",
          "data": {
            "text/html": [
              "<div>\n",
              "<style scoped>\n",
              "    .dataframe tbody tr th:only-of-type {\n",
              "        vertical-align: middle;\n",
              "    }\n",
              "\n",
              "    .dataframe tbody tr th {\n",
              "        vertical-align: top;\n",
              "    }\n",
              "\n",
              "    .dataframe thead th {\n",
              "        text-align: right;\n",
              "    }\n",
              "</style>\n",
              "<table border=\"1\" class=\"dataframe\">\n",
              "  <thead>\n",
              "    <tr style=\"text-align: right;\">\n",
              "      <th></th>\n",
              "      <th>number</th>\n",
              "      <th>value</th>\n",
              "      <th>datetime_start</th>\n",
              "      <th>datetime_complete</th>\n",
              "      <th>duration</th>\n",
              "      <th>params_alpha</th>\n",
              "      <th>params_colsample_bytree</th>\n",
              "      <th>params_lambda</th>\n",
              "      <th>params_learning_rate</th>\n",
              "      <th>params_max_depth</th>\n",
              "      <th>params_min_child_weight</th>\n",
              "      <th>params_n_estimators</th>\n",
              "      <th>params_subsample</th>\n",
              "      <th>state</th>\n",
              "    </tr>\n",
              "  </thead>\n",
              "  <tbody>\n",
              "    <tr>\n",
              "      <th>0</th>\n",
              "      <td>0</td>\n",
              "      <td>0.858273</td>\n",
              "      <td>2021-01-31 15:52:37.236719</td>\n",
              "      <td>2021-01-31 15:52:41.207205</td>\n",
              "      <td>0 days 00:00:03.970486</td>\n",
              "      <td>1.126093</td>\n",
              "      <td>0.5</td>\n",
              "      <td>3.140593</td>\n",
              "      <td>0.018</td>\n",
              "      <td>13</td>\n",
              "      <td>238</td>\n",
              "      <td>150</td>\n",
              "      <td>0.8</td>\n",
              "      <td>COMPLETE</td>\n",
              "    </tr>\n",
              "    <tr>\n",
              "      <th>1</th>\n",
              "      <td>1</td>\n",
              "      <td>0.980519</td>\n",
              "      <td>2021-01-31 15:52:41.209670</td>\n",
              "      <td>2021-01-31 15:52:43.208596</td>\n",
              "      <td>0 days 00:00:01.998926</td>\n",
              "      <td>2.871313</td>\n",
              "      <td>1.0</td>\n",
              "      <td>0.207043</td>\n",
              "      <td>0.008</td>\n",
              "      <td>4</td>\n",
              "      <td>224</td>\n",
              "      <td>300</td>\n",
              "      <td>1.0</td>\n",
              "      <td>COMPLETE</td>\n",
              "    </tr>\n",
              "    <tr>\n",
              "      <th>2</th>\n",
              "      <td>2</td>\n",
              "      <td>0.865524</td>\n",
              "      <td>2021-01-31 15:52:43.209910</td>\n",
              "      <td>2021-01-31 15:53:06.509397</td>\n",
              "      <td>0 days 00:00:23.299487</td>\n",
              "      <td>0.004314</td>\n",
              "      <td>0.8</td>\n",
              "      <td>0.007819</td>\n",
              "      <td>0.018</td>\n",
              "      <td>15</td>\n",
              "      <td>1</td>\n",
              "      <td>150</td>\n",
              "      <td>0.7</td>\n",
              "      <td>COMPLETE</td>\n",
              "    </tr>\n",
              "    <tr>\n",
              "      <th>3</th>\n",
              "      <td>3</td>\n",
              "      <td>0.698916</td>\n",
              "      <td>2021-01-31 15:53:06.510867</td>\n",
              "      <td>2021-01-31 15:53:11.446239</td>\n",
              "      <td>0 days 00:00:04.935372</td>\n",
              "      <td>0.004065</td>\n",
              "      <td>0.9</td>\n",
              "      <td>0.134375</td>\n",
              "      <td>0.020</td>\n",
              "      <td>9</td>\n",
              "      <td>98</td>\n",
              "      <td>300</td>\n",
              "      <td>0.8</td>\n",
              "      <td>COMPLETE</td>\n",
              "    </tr>\n",
              "    <tr>\n",
              "      <th>4</th>\n",
              "      <td>4</td>\n",
              "      <td>0.702087</td>\n",
              "      <td>2021-01-31 15:53:11.447528</td>\n",
              "      <td>2021-01-31 15:53:14.579013</td>\n",
              "      <td>0 days 00:00:03.131485</td>\n",
              "      <td>7.025211</td>\n",
              "      <td>0.9</td>\n",
              "      <td>0.376888</td>\n",
              "      <td>0.020</td>\n",
              "      <td>7</td>\n",
              "      <td>126</td>\n",
              "      <td>300</td>\n",
              "      <td>1.0</td>\n",
              "      <td>COMPLETE</td>\n",
              "    </tr>\n",
              "  </tbody>\n",
              "</table>\n",
              "</div>"
            ],
            "text/plain": [
              "   number     value  ... params_subsample     state\n",
              "0       0  0.858273  ...              0.8  COMPLETE\n",
              "1       1  0.980519  ...              1.0  COMPLETE\n",
              "2       2  0.865524  ...              0.7  COMPLETE\n",
              "3       3  0.698916  ...              0.8  COMPLETE\n",
              "4       4  0.702087  ...              1.0  COMPLETE\n",
              "\n",
              "[5 rows x 14 columns]"
            ]
          },
          "metadata": {
            "tags": []
          },
          "execution_count": 25
        }
      ]
    },
    {
      "cell_type": "code",
      "metadata": {
        "colab": {
          "base_uri": "https://localhost:8080/",
          "height": 542
        },
        "id": "oTXVsm9PHJWM",
        "outputId": "e806c212-0575-4be3-e8ea-7cc0df6e3fb0"
      },
      "source": [
        "# plot_optimization_histor: shows the scores from all trials as well as the best score so far at each point.\r\n",
        "optuna.visualization.plot_optimization_history(study)"
      ],
      "execution_count": 26,
      "outputs": [
        {
          "output_type": "display_data",
          "data": {
            "text/html": [
              "<html>\n",
              "<head><meta charset=\"utf-8\" /></head>\n",
              "<body>\n",
              "    <div>\n",
              "            <script src=\"https://cdnjs.cloudflare.com/ajax/libs/mathjax/2.7.5/MathJax.js?config=TeX-AMS-MML_SVG\"></script><script type=\"text/javascript\">if (window.MathJax) {MathJax.Hub.Config({SVG: {font: \"STIX-Web\"}});}</script>\n",
              "                <script type=\"text/javascript\">window.PlotlyConfig = {MathJaxConfig: 'local'};</script>\n",
              "        <script src=\"https://cdn.plot.ly/plotly-latest.min.js\"></script>    \n",
              "            <div id=\"ea53b4dd-85d5-43b7-8d2e-b815ab8d3dc4\" class=\"plotly-graph-div\" style=\"height:525px; width:100%;\"></div>\n",
              "            <script type=\"text/javascript\">\n",
              "                \n",
              "                    window.PLOTLYENV=window.PLOTLYENV || {};\n",
              "                    \n",
              "                if (document.getElementById(\"ea53b4dd-85d5-43b7-8d2e-b815ab8d3dc4\")) {\n",
              "                    Plotly.newPlot(\n",
              "                        'ea53b4dd-85d5-43b7-8d2e-b815ab8d3dc4',\n",
              "                        [{\"mode\": \"markers\", \"name\": \"Objective Value\", \"type\": \"scatter\", \"x\": [0, 1, 2, 3, 4, 5, 6, 7, 8, 9, 10, 11, 12, 13, 14, 15, 16, 17, 18, 19, 20, 21, 22, 23, 24], \"y\": [0.8582729655857633, 0.9805189257722055, 0.8655242995310545, 0.6989161316319584, 0.7020865959426636, 0.7637551914025958, 2.0428457647313683, 0.6954182412433655, 0.6957573186114845, 0.9691468161436685, 0.6967100917060413, 0.6962099742748517, 0.6967822639861462, 0.695478985334563, 0.6947502294340568, 0.7112828929396691, 0.6949176755295075, 0.6940023388226798, 0.6947678809836204, 1.4144987677872953, 0.6939868526109869, 0.694024433816882, 0.6938753178191799, 0.6939268198203813, 0.694067918999114]}, {\"name\": \"Best Value\", \"type\": \"scatter\", \"x\": [0, 1, 2, 3, 4, 5, 6, 7, 8, 9, 10, 11, 12, 13, 14, 15, 16, 17, 18, 19, 20, 21, 22, 23, 24], \"y\": [0.8582729655857633, 0.8582729655857633, 0.8582729655857633, 0.6989161316319584, 0.6989161316319584, 0.6989161316319584, 0.6989161316319584, 0.6954182412433655, 0.6954182412433655, 0.6954182412433655, 0.6954182412433655, 0.6954182412433655, 0.6954182412433655, 0.6954182412433655, 0.6947502294340568, 0.6947502294340568, 0.6947502294340568, 0.6940023388226798, 0.6940023388226798, 0.6940023388226798, 0.6939868526109869, 0.6939868526109869, 0.6938753178191799, 0.6938753178191799, 0.6938753178191799]}],\n",
              "                        {\"template\": {\"data\": {\"bar\": [{\"error_x\": {\"color\": \"#2a3f5f\"}, \"error_y\": {\"color\": \"#2a3f5f\"}, \"marker\": {\"line\": {\"color\": \"#E5ECF6\", \"width\": 0.5}}, \"type\": \"bar\"}], \"barpolar\": [{\"marker\": {\"line\": {\"color\": \"#E5ECF6\", \"width\": 0.5}}, \"type\": \"barpolar\"}], \"carpet\": [{\"aaxis\": {\"endlinecolor\": \"#2a3f5f\", \"gridcolor\": \"white\", \"linecolor\": \"white\", \"minorgridcolor\": \"white\", \"startlinecolor\": \"#2a3f5f\"}, \"baxis\": {\"endlinecolor\": \"#2a3f5f\", \"gridcolor\": \"white\", \"linecolor\": \"white\", \"minorgridcolor\": \"white\", \"startlinecolor\": \"#2a3f5f\"}, \"type\": \"carpet\"}], \"choropleth\": [{\"colorbar\": {\"outlinewidth\": 0, \"ticks\": \"\"}, \"type\": \"choropleth\"}], \"contour\": [{\"colorbar\": {\"outlinewidth\": 0, \"ticks\": \"\"}, \"colorscale\": [[0.0, \"#0d0887\"], [0.1111111111111111, \"#46039f\"], [0.2222222222222222, \"#7201a8\"], [0.3333333333333333, \"#9c179e\"], [0.4444444444444444, \"#bd3786\"], [0.5555555555555556, \"#d8576b\"], [0.6666666666666666, \"#ed7953\"], [0.7777777777777778, \"#fb9f3a\"], [0.8888888888888888, \"#fdca26\"], [1.0, \"#f0f921\"]], \"type\": \"contour\"}], \"contourcarpet\": [{\"colorbar\": {\"outlinewidth\": 0, \"ticks\": \"\"}, \"type\": \"contourcarpet\"}], \"heatmap\": [{\"colorbar\": {\"outlinewidth\": 0, \"ticks\": \"\"}, \"colorscale\": [[0.0, \"#0d0887\"], [0.1111111111111111, \"#46039f\"], [0.2222222222222222, \"#7201a8\"], [0.3333333333333333, \"#9c179e\"], [0.4444444444444444, \"#bd3786\"], [0.5555555555555556, \"#d8576b\"], [0.6666666666666666, \"#ed7953\"], [0.7777777777777778, \"#fb9f3a\"], [0.8888888888888888, \"#fdca26\"], [1.0, \"#f0f921\"]], \"type\": \"heatmap\"}], \"heatmapgl\": [{\"colorbar\": {\"outlinewidth\": 0, \"ticks\": \"\"}, \"colorscale\": [[0.0, \"#0d0887\"], [0.1111111111111111, \"#46039f\"], [0.2222222222222222, \"#7201a8\"], [0.3333333333333333, \"#9c179e\"], [0.4444444444444444, \"#bd3786\"], [0.5555555555555556, \"#d8576b\"], [0.6666666666666666, \"#ed7953\"], [0.7777777777777778, \"#fb9f3a\"], [0.8888888888888888, \"#fdca26\"], [1.0, \"#f0f921\"]], \"type\": \"heatmapgl\"}], \"histogram\": [{\"marker\": {\"colorbar\": {\"outlinewidth\": 0, \"ticks\": \"\"}}, \"type\": \"histogram\"}], \"histogram2d\": [{\"colorbar\": {\"outlinewidth\": 0, \"ticks\": \"\"}, \"colorscale\": [[0.0, \"#0d0887\"], [0.1111111111111111, \"#46039f\"], [0.2222222222222222, \"#7201a8\"], [0.3333333333333333, \"#9c179e\"], [0.4444444444444444, \"#bd3786\"], [0.5555555555555556, \"#d8576b\"], [0.6666666666666666, \"#ed7953\"], [0.7777777777777778, \"#fb9f3a\"], [0.8888888888888888, \"#fdca26\"], [1.0, \"#f0f921\"]], \"type\": \"histogram2d\"}], \"histogram2dcontour\": [{\"colorbar\": {\"outlinewidth\": 0, \"ticks\": \"\"}, \"colorscale\": [[0.0, \"#0d0887\"], [0.1111111111111111, \"#46039f\"], [0.2222222222222222, \"#7201a8\"], [0.3333333333333333, \"#9c179e\"], [0.4444444444444444, \"#bd3786\"], [0.5555555555555556, \"#d8576b\"], [0.6666666666666666, \"#ed7953\"], [0.7777777777777778, \"#fb9f3a\"], [0.8888888888888888, \"#fdca26\"], [1.0, \"#f0f921\"]], \"type\": \"histogram2dcontour\"}], \"mesh3d\": [{\"colorbar\": {\"outlinewidth\": 0, \"ticks\": \"\"}, \"type\": \"mesh3d\"}], \"parcoords\": [{\"line\": {\"colorbar\": {\"outlinewidth\": 0, \"ticks\": \"\"}}, \"type\": \"parcoords\"}], \"pie\": [{\"automargin\": true, \"type\": \"pie\"}], \"scatter\": [{\"marker\": {\"colorbar\": {\"outlinewidth\": 0, \"ticks\": \"\"}}, \"type\": \"scatter\"}], \"scatter3d\": [{\"line\": {\"colorbar\": {\"outlinewidth\": 0, \"ticks\": \"\"}}, \"marker\": {\"colorbar\": {\"outlinewidth\": 0, \"ticks\": \"\"}}, \"type\": \"scatter3d\"}], \"scattercarpet\": [{\"marker\": {\"colorbar\": {\"outlinewidth\": 0, \"ticks\": \"\"}}, \"type\": \"scattercarpet\"}], \"scattergeo\": [{\"marker\": {\"colorbar\": {\"outlinewidth\": 0, \"ticks\": \"\"}}, \"type\": \"scattergeo\"}], \"scattergl\": [{\"marker\": {\"colorbar\": {\"outlinewidth\": 0, \"ticks\": \"\"}}, \"type\": \"scattergl\"}], \"scattermapbox\": [{\"marker\": {\"colorbar\": {\"outlinewidth\": 0, \"ticks\": \"\"}}, \"type\": \"scattermapbox\"}], \"scatterpolar\": [{\"marker\": {\"colorbar\": {\"outlinewidth\": 0, \"ticks\": \"\"}}, \"type\": \"scatterpolar\"}], \"scatterpolargl\": [{\"marker\": {\"colorbar\": {\"outlinewidth\": 0, \"ticks\": \"\"}}, \"type\": \"scatterpolargl\"}], \"scatterternary\": [{\"marker\": {\"colorbar\": {\"outlinewidth\": 0, \"ticks\": \"\"}}, \"type\": \"scatterternary\"}], \"surface\": [{\"colorbar\": {\"outlinewidth\": 0, \"ticks\": \"\"}, \"colorscale\": [[0.0, \"#0d0887\"], [0.1111111111111111, \"#46039f\"], [0.2222222222222222, \"#7201a8\"], [0.3333333333333333, \"#9c179e\"], [0.4444444444444444, \"#bd3786\"], [0.5555555555555556, \"#d8576b\"], [0.6666666666666666, \"#ed7953\"], [0.7777777777777778, \"#fb9f3a\"], [0.8888888888888888, \"#fdca26\"], [1.0, \"#f0f921\"]], \"type\": \"surface\"}], \"table\": [{\"cells\": {\"fill\": {\"color\": \"#EBF0F8\"}, \"line\": {\"color\": \"white\"}}, \"header\": {\"fill\": {\"color\": \"#C8D4E3\"}, \"line\": {\"color\": \"white\"}}, \"type\": \"table\"}]}, \"layout\": {\"annotationdefaults\": {\"arrowcolor\": \"#2a3f5f\", \"arrowhead\": 0, \"arrowwidth\": 1}, \"coloraxis\": {\"colorbar\": {\"outlinewidth\": 0, \"ticks\": \"\"}}, \"colorscale\": {\"diverging\": [[0, \"#8e0152\"], [0.1, \"#c51b7d\"], [0.2, \"#de77ae\"], [0.3, \"#f1b6da\"], [0.4, \"#fde0ef\"], [0.5, \"#f7f7f7\"], [0.6, \"#e6f5d0\"], [0.7, \"#b8e186\"], [0.8, \"#7fbc41\"], [0.9, \"#4d9221\"], [1, \"#276419\"]], \"sequential\": [[0.0, \"#0d0887\"], [0.1111111111111111, \"#46039f\"], [0.2222222222222222, \"#7201a8\"], [0.3333333333333333, \"#9c179e\"], [0.4444444444444444, \"#bd3786\"], [0.5555555555555556, \"#d8576b\"], [0.6666666666666666, \"#ed7953\"], [0.7777777777777778, \"#fb9f3a\"], [0.8888888888888888, \"#fdca26\"], [1.0, \"#f0f921\"]], \"sequentialminus\": [[0.0, \"#0d0887\"], [0.1111111111111111, \"#46039f\"], [0.2222222222222222, \"#7201a8\"], [0.3333333333333333, \"#9c179e\"], [0.4444444444444444, \"#bd3786\"], [0.5555555555555556, \"#d8576b\"], [0.6666666666666666, \"#ed7953\"], [0.7777777777777778, \"#fb9f3a\"], [0.8888888888888888, \"#fdca26\"], [1.0, \"#f0f921\"]]}, \"colorway\": [\"#636efa\", \"#EF553B\", \"#00cc96\", \"#ab63fa\", \"#FFA15A\", \"#19d3f3\", \"#FF6692\", \"#B6E880\", \"#FF97FF\", \"#FECB52\"], \"font\": {\"color\": \"#2a3f5f\"}, \"geo\": {\"bgcolor\": \"white\", \"lakecolor\": \"white\", \"landcolor\": \"#E5ECF6\", \"showlakes\": true, \"showland\": true, \"subunitcolor\": \"white\"}, \"hoverlabel\": {\"align\": \"left\"}, \"hovermode\": \"closest\", \"mapbox\": {\"style\": \"light\"}, \"paper_bgcolor\": \"white\", \"plot_bgcolor\": \"#E5ECF6\", \"polar\": {\"angularaxis\": {\"gridcolor\": \"white\", \"linecolor\": \"white\", \"ticks\": \"\"}, \"bgcolor\": \"#E5ECF6\", \"radialaxis\": {\"gridcolor\": \"white\", \"linecolor\": \"white\", \"ticks\": \"\"}}, \"scene\": {\"xaxis\": {\"backgroundcolor\": \"#E5ECF6\", \"gridcolor\": \"white\", \"gridwidth\": 2, \"linecolor\": \"white\", \"showbackground\": true, \"ticks\": \"\", \"zerolinecolor\": \"white\"}, \"yaxis\": {\"backgroundcolor\": \"#E5ECF6\", \"gridcolor\": \"white\", \"gridwidth\": 2, \"linecolor\": \"white\", \"showbackground\": true, \"ticks\": \"\", \"zerolinecolor\": \"white\"}, \"zaxis\": {\"backgroundcolor\": \"#E5ECF6\", \"gridcolor\": \"white\", \"gridwidth\": 2, \"linecolor\": \"white\", \"showbackground\": true, \"ticks\": \"\", \"zerolinecolor\": \"white\"}}, \"shapedefaults\": {\"line\": {\"color\": \"#2a3f5f\"}}, \"ternary\": {\"aaxis\": {\"gridcolor\": \"white\", \"linecolor\": \"white\", \"ticks\": \"\"}, \"baxis\": {\"gridcolor\": \"white\", \"linecolor\": \"white\", \"ticks\": \"\"}, \"bgcolor\": \"#E5ECF6\", \"caxis\": {\"gridcolor\": \"white\", \"linecolor\": \"white\", \"ticks\": \"\"}}, \"title\": {\"x\": 0.05}, \"xaxis\": {\"automargin\": true, \"gridcolor\": \"white\", \"linecolor\": \"white\", \"ticks\": \"\", \"title\": {\"standoff\": 15}, \"zerolinecolor\": \"white\", \"zerolinewidth\": 2}, \"yaxis\": {\"automargin\": true, \"gridcolor\": \"white\", \"linecolor\": \"white\", \"ticks\": \"\", \"title\": {\"standoff\": 15}, \"zerolinecolor\": \"white\", \"zerolinewidth\": 2}}}, \"title\": {\"text\": \"Optimization History Plot\"}, \"xaxis\": {\"title\": {\"text\": \"#Trials\"}}, \"yaxis\": {\"title\": {\"text\": \"Objective Value\"}}},\n",
              "                        {\"responsive\": true}\n",
              "                    ).then(function(){\n",
              "                            \n",
              "var gd = document.getElementById('ea53b4dd-85d5-43b7-8d2e-b815ab8d3dc4');\n",
              "var x = new MutationObserver(function (mutations, observer) {{\n",
              "        var display = window.getComputedStyle(gd).display;\n",
              "        if (!display || display === 'none') {{\n",
              "            console.log([gd, 'removed!']);\n",
              "            Plotly.purge(gd);\n",
              "            observer.disconnect();\n",
              "        }}\n",
              "}});\n",
              "\n",
              "// Listen for the removal of the full notebook cells\n",
              "var notebookContainer = gd.closest('#notebook-container');\n",
              "if (notebookContainer) {{\n",
              "    x.observe(notebookContainer, {childList: true});\n",
              "}}\n",
              "\n",
              "// Listen for the clearing of the current output cell\n",
              "var outputEl = gd.closest('.output');\n",
              "if (outputEl) {{\n",
              "    x.observe(outputEl, {childList: true});\n",
              "}}\n",
              "\n",
              "                        })\n",
              "                };\n",
              "                \n",
              "            </script>\n",
              "        </div>\n",
              "</body>\n",
              "</html>"
            ]
          },
          "metadata": {
            "tags": []
          }
        }
      ]
    },
    {
      "cell_type": "code",
      "metadata": {
        "colab": {
          "base_uri": "https://localhost:8080/",
          "height": 542
        },
        "id": "DsjxepkFHJYV",
        "outputId": "00a1087e-fe41-4ba1-b99b-f334ec4bc537"
      },
      "source": [
        "# plot_parallel_coordinate: interactively visualizes the hyperparameters and scores\r\n",
        "optuna.visualization.plot_parallel_coordinate(study)"
      ],
      "execution_count": 27,
      "outputs": [
        {
          "output_type": "display_data",
          "data": {
            "text/html": [
              "<html>\n",
              "<head><meta charset=\"utf-8\" /></head>\n",
              "<body>\n",
              "    <div>\n",
              "            <script src=\"https://cdnjs.cloudflare.com/ajax/libs/mathjax/2.7.5/MathJax.js?config=TeX-AMS-MML_SVG\"></script><script type=\"text/javascript\">if (window.MathJax) {MathJax.Hub.Config({SVG: {font: \"STIX-Web\"}});}</script>\n",
              "                <script type=\"text/javascript\">window.PlotlyConfig = {MathJaxConfig: 'local'};</script>\n",
              "        <script src=\"https://cdn.plot.ly/plotly-latest.min.js\"></script>    \n",
              "            <div id=\"7dd46d24-2dd9-4f10-b917-3bb47cafcde9\" class=\"plotly-graph-div\" style=\"height:525px; width:100%;\"></div>\n",
              "            <script type=\"text/javascript\">\n",
              "                \n",
              "                    window.PLOTLYENV=window.PLOTLYENV || {};\n",
              "                    \n",
              "                if (document.getElementById(\"7dd46d24-2dd9-4f10-b917-3bb47cafcde9\")) {\n",
              "                    Plotly.newPlot(\n",
              "                        '7dd46d24-2dd9-4f10-b917-3bb47cafcde9',\n",
              "                        [{\"dimensions\": [{\"label\": \"Objective Value\", \"range\": [0.6938753178191799, 2.0428457647313683], \"values\": [0.8582729655857633, 0.9805189257722055, 0.8655242995310545, 0.6989161316319584, 0.7020865959426636, 0.7637551914025958, 2.0428457647313683, 0.6954182412433655, 0.6957573186114845, 0.9691468161436685, 0.6967100917060413, 0.6962099742748517, 0.6967822639861462, 0.695478985334563, 0.6947502294340568, 0.7112828929396691, 0.6949176755295075, 0.6940023388226798, 0.6947678809836204, 1.4144987677872953, 0.6939868526109869, 0.694024433816882, 0.6938753178191799, 0.6939268198203813, 0.694067918999114]}, {\"label\": \"alpha\", \"range\": [0.0010161730883564604, 7.0252112405882], \"values\": [1.1260925251638223, 2.8713128666404284, 0.004313885099674506, 0.004065014334702235, 7.0252112405882, 0.3776580220731512, 0.006219815589458687, 0.017999181730957124, 0.07673788064918045, 0.03154552897179685, 0.02265989017236122, 0.09052776118981794, 0.19180856008182007, 0.0210635232309854, 0.023627177410841783, 0.0010161730883564604, 0.0014742982252321025, 0.0010590923898838645, 0.0012824444944737046, 0.007474490281189833, 0.4716801243174047, 0.7091719515227536, 0.7114423595870062, 2.9259005166978107, 2.2602325045063836]}, {\"label\": \"colsample_bytree\", \"range\": [0.5, 1.0], \"values\": [0.5, 1.0, 0.8, 0.9, 0.9, 0.5, 1.0, 0.9, 0.7, 1.0, 0.6, 0.7, 0.7, 0.7, 0.9, 0.9, 0.9, 0.9, 0.6, 0.9, 0.8, 0.8, 0.8, 0.8, 0.8]}, {\"label\": \"lambda\", \"range\": [0.0010492820074907373, 9.542449126440134], \"values\": [3.1405930056653766, 0.2070427922644511, 0.007818576708060219, 0.13437452560118374, 0.37688784701654726, 0.01631601026056151, 0.0031926795528427723, 5.252848113354831, 0.0011552207121172488, 1.2004044010197525, 3.7444124906082954, 0.0010492820074907373, 0.03340762631514681, 0.0010835805749631368, 1.0326857339482682, 9.542449126440134, 0.7094137873396941, 0.7323843991422126, 1.1792756147030874, 0.056149494960756906, 0.37524263531725, 0.48849265201646114, 0.36311467811954184, 0.2510369635972826, 0.17421852389113557]}, {\"label\": \"learning_rate\", \"range\": [0.008, 0.02], \"values\": [0.018, 0.008, 0.018, 0.02, 0.02, 0.016, 0.009, 0.02, 0.016, 0.016, 0.014, 0.012, 0.01, 0.02, 0.02, 0.02, 0.02, 0.009, 0.009, 0.009, 0.01, 0.01, 0.01, 0.01, 0.01]}, {\"label\": \"max_depth\", \"range\": [4, 17], \"values\": [13, 4, 15, 9, 7, 11, 13, 13, 5, 11, 17, 5, 5, 5, 13, 13, 13, 13, 7, 4, 15, 13, 15, 15, 15]}, {\"label\": \"min_child_weight\", \"range\": [1, 297], \"values\": [238, 224, 1, 98, 126, 245, 205, 23, 232, 270, 3, 61, 179, 297, 55, 41, 56, 80, 99, 85, 144, 144, 152, 171, 167]}, {\"label\": \"n_estimators\", \"range\": [150, 3000], \"values\": [150, 300, 150, 300, 300, 200, 150, 3000, 3000, 150, 3000, 3000, 3000, 3000, 3000, 200, 3000, 3000, 3000, 200, 3000, 3000, 3000, 3000, 3000]}, {\"label\": \"subsample\", \"range\": [0.6, 1.0], \"values\": [0.8, 1.0, 0.7, 0.8, 1.0, 0.8, 0.7, 0.8, 0.7, 0.8, 0.6, 0.7, 0.6, 0.7, 0.7, 0.8, 0.8, 0.6, 0.6, 0.6, 0.6, 0.6, 0.6, 0.6, 0.6]}], \"labelangle\": 30, \"labelside\": \"bottom\", \"line\": {\"color\": [0.8582729655857633, 0.9805189257722055, 0.8655242995310545, 0.6989161316319584, 0.7020865959426636, 0.7637551914025958, 2.0428457647313683, 0.6954182412433655, 0.6957573186114845, 0.9691468161436685, 0.6967100917060413, 0.6962099742748517, 0.6967822639861462, 0.695478985334563, 0.6947502294340568, 0.7112828929396691, 0.6949176755295075, 0.6940023388226798, 0.6947678809836204, 1.4144987677872953, 0.6939868526109869, 0.694024433816882, 0.6938753178191799, 0.6939268198203813, 0.694067918999114], \"colorbar\": {\"title\": {\"text\": \"Objective Value\"}}, \"colorscale\": [[0.0, \"rgb(247,251,255)\"], [0.125, \"rgb(222,235,247)\"], [0.25, \"rgb(198,219,239)\"], [0.375, \"rgb(158,202,225)\"], [0.5, \"rgb(107,174,214)\"], [0.625, \"rgb(66,146,198)\"], [0.75, \"rgb(33,113,181)\"], [0.875, \"rgb(8,81,156)\"], [1.0, \"rgb(8,48,107)\"]], \"reversescale\": true, \"showscale\": true}, \"type\": \"parcoords\"}],\n",
              "                        {\"template\": {\"data\": {\"bar\": [{\"error_x\": {\"color\": \"#2a3f5f\"}, \"error_y\": {\"color\": \"#2a3f5f\"}, \"marker\": {\"line\": {\"color\": \"#E5ECF6\", \"width\": 0.5}}, \"type\": \"bar\"}], \"barpolar\": [{\"marker\": {\"line\": {\"color\": \"#E5ECF6\", \"width\": 0.5}}, \"type\": \"barpolar\"}], \"carpet\": [{\"aaxis\": {\"endlinecolor\": \"#2a3f5f\", \"gridcolor\": \"white\", \"linecolor\": \"white\", \"minorgridcolor\": \"white\", \"startlinecolor\": \"#2a3f5f\"}, \"baxis\": {\"endlinecolor\": \"#2a3f5f\", \"gridcolor\": \"white\", \"linecolor\": \"white\", \"minorgridcolor\": \"white\", \"startlinecolor\": \"#2a3f5f\"}, \"type\": \"carpet\"}], \"choropleth\": [{\"colorbar\": {\"outlinewidth\": 0, \"ticks\": \"\"}, \"type\": \"choropleth\"}], \"contour\": [{\"colorbar\": {\"outlinewidth\": 0, \"ticks\": \"\"}, \"colorscale\": [[0.0, \"#0d0887\"], [0.1111111111111111, \"#46039f\"], [0.2222222222222222, \"#7201a8\"], [0.3333333333333333, \"#9c179e\"], [0.4444444444444444, \"#bd3786\"], [0.5555555555555556, \"#d8576b\"], [0.6666666666666666, \"#ed7953\"], [0.7777777777777778, \"#fb9f3a\"], [0.8888888888888888, \"#fdca26\"], [1.0, \"#f0f921\"]], \"type\": \"contour\"}], \"contourcarpet\": [{\"colorbar\": {\"outlinewidth\": 0, \"ticks\": \"\"}, \"type\": \"contourcarpet\"}], \"heatmap\": [{\"colorbar\": {\"outlinewidth\": 0, \"ticks\": \"\"}, \"colorscale\": [[0.0, \"#0d0887\"], [0.1111111111111111, \"#46039f\"], [0.2222222222222222, \"#7201a8\"], [0.3333333333333333, \"#9c179e\"], [0.4444444444444444, \"#bd3786\"], [0.5555555555555556, \"#d8576b\"], [0.6666666666666666, \"#ed7953\"], [0.7777777777777778, \"#fb9f3a\"], [0.8888888888888888, \"#fdca26\"], [1.0, \"#f0f921\"]], \"type\": \"heatmap\"}], \"heatmapgl\": [{\"colorbar\": {\"outlinewidth\": 0, \"ticks\": \"\"}, \"colorscale\": [[0.0, \"#0d0887\"], [0.1111111111111111, \"#46039f\"], [0.2222222222222222, \"#7201a8\"], [0.3333333333333333, \"#9c179e\"], [0.4444444444444444, \"#bd3786\"], [0.5555555555555556, \"#d8576b\"], [0.6666666666666666, \"#ed7953\"], [0.7777777777777778, \"#fb9f3a\"], [0.8888888888888888, \"#fdca26\"], [1.0, \"#f0f921\"]], \"type\": \"heatmapgl\"}], \"histogram\": [{\"marker\": {\"colorbar\": {\"outlinewidth\": 0, \"ticks\": \"\"}}, \"type\": \"histogram\"}], \"histogram2d\": [{\"colorbar\": {\"outlinewidth\": 0, \"ticks\": \"\"}, \"colorscale\": [[0.0, \"#0d0887\"], [0.1111111111111111, \"#46039f\"], [0.2222222222222222, \"#7201a8\"], [0.3333333333333333, \"#9c179e\"], [0.4444444444444444, \"#bd3786\"], [0.5555555555555556, \"#d8576b\"], [0.6666666666666666, \"#ed7953\"], [0.7777777777777778, \"#fb9f3a\"], [0.8888888888888888, \"#fdca26\"], [1.0, \"#f0f921\"]], \"type\": \"histogram2d\"}], \"histogram2dcontour\": [{\"colorbar\": {\"outlinewidth\": 0, \"ticks\": \"\"}, \"colorscale\": [[0.0, \"#0d0887\"], [0.1111111111111111, \"#46039f\"], [0.2222222222222222, \"#7201a8\"], [0.3333333333333333, \"#9c179e\"], [0.4444444444444444, \"#bd3786\"], [0.5555555555555556, \"#d8576b\"], [0.6666666666666666, \"#ed7953\"], [0.7777777777777778, \"#fb9f3a\"], [0.8888888888888888, \"#fdca26\"], [1.0, \"#f0f921\"]], \"type\": \"histogram2dcontour\"}], \"mesh3d\": [{\"colorbar\": {\"outlinewidth\": 0, \"ticks\": \"\"}, \"type\": \"mesh3d\"}], \"parcoords\": [{\"line\": {\"colorbar\": {\"outlinewidth\": 0, \"ticks\": \"\"}}, \"type\": \"parcoords\"}], \"pie\": [{\"automargin\": true, \"type\": \"pie\"}], \"scatter\": [{\"marker\": {\"colorbar\": {\"outlinewidth\": 0, \"ticks\": \"\"}}, \"type\": \"scatter\"}], \"scatter3d\": [{\"line\": {\"colorbar\": {\"outlinewidth\": 0, \"ticks\": \"\"}}, \"marker\": {\"colorbar\": {\"outlinewidth\": 0, \"ticks\": \"\"}}, \"type\": \"scatter3d\"}], \"scattercarpet\": [{\"marker\": {\"colorbar\": {\"outlinewidth\": 0, \"ticks\": \"\"}}, \"type\": \"scattercarpet\"}], \"scattergeo\": [{\"marker\": {\"colorbar\": {\"outlinewidth\": 0, \"ticks\": \"\"}}, \"type\": \"scattergeo\"}], \"scattergl\": [{\"marker\": {\"colorbar\": {\"outlinewidth\": 0, \"ticks\": \"\"}}, \"type\": \"scattergl\"}], \"scattermapbox\": [{\"marker\": {\"colorbar\": {\"outlinewidth\": 0, \"ticks\": \"\"}}, \"type\": \"scattermapbox\"}], \"scatterpolar\": [{\"marker\": {\"colorbar\": {\"outlinewidth\": 0, \"ticks\": \"\"}}, \"type\": \"scatterpolar\"}], \"scatterpolargl\": [{\"marker\": {\"colorbar\": {\"outlinewidth\": 0, \"ticks\": \"\"}}, \"type\": \"scatterpolargl\"}], \"scatterternary\": [{\"marker\": {\"colorbar\": {\"outlinewidth\": 0, \"ticks\": \"\"}}, \"type\": \"scatterternary\"}], \"surface\": [{\"colorbar\": {\"outlinewidth\": 0, \"ticks\": \"\"}, \"colorscale\": [[0.0, \"#0d0887\"], [0.1111111111111111, \"#46039f\"], [0.2222222222222222, \"#7201a8\"], [0.3333333333333333, \"#9c179e\"], [0.4444444444444444, \"#bd3786\"], [0.5555555555555556, \"#d8576b\"], [0.6666666666666666, \"#ed7953\"], [0.7777777777777778, \"#fb9f3a\"], [0.8888888888888888, \"#fdca26\"], [1.0, \"#f0f921\"]], \"type\": \"surface\"}], \"table\": [{\"cells\": {\"fill\": {\"color\": \"#EBF0F8\"}, \"line\": {\"color\": \"white\"}}, \"header\": {\"fill\": {\"color\": \"#C8D4E3\"}, \"line\": {\"color\": \"white\"}}, \"type\": \"table\"}]}, \"layout\": {\"annotationdefaults\": {\"arrowcolor\": \"#2a3f5f\", \"arrowhead\": 0, \"arrowwidth\": 1}, \"coloraxis\": {\"colorbar\": {\"outlinewidth\": 0, \"ticks\": \"\"}}, \"colorscale\": {\"diverging\": [[0, \"#8e0152\"], [0.1, \"#c51b7d\"], [0.2, \"#de77ae\"], [0.3, \"#f1b6da\"], [0.4, \"#fde0ef\"], [0.5, \"#f7f7f7\"], [0.6, \"#e6f5d0\"], [0.7, \"#b8e186\"], [0.8, \"#7fbc41\"], [0.9, \"#4d9221\"], [1, \"#276419\"]], \"sequential\": [[0.0, \"#0d0887\"], [0.1111111111111111, \"#46039f\"], [0.2222222222222222, \"#7201a8\"], [0.3333333333333333, \"#9c179e\"], [0.4444444444444444, \"#bd3786\"], [0.5555555555555556, \"#d8576b\"], [0.6666666666666666, \"#ed7953\"], [0.7777777777777778, \"#fb9f3a\"], [0.8888888888888888, \"#fdca26\"], [1.0, \"#f0f921\"]], \"sequentialminus\": [[0.0, \"#0d0887\"], [0.1111111111111111, \"#46039f\"], [0.2222222222222222, \"#7201a8\"], [0.3333333333333333, \"#9c179e\"], [0.4444444444444444, \"#bd3786\"], [0.5555555555555556, \"#d8576b\"], [0.6666666666666666, \"#ed7953\"], [0.7777777777777778, \"#fb9f3a\"], [0.8888888888888888, \"#fdca26\"], [1.0, \"#f0f921\"]]}, \"colorway\": [\"#636efa\", \"#EF553B\", \"#00cc96\", \"#ab63fa\", \"#FFA15A\", \"#19d3f3\", \"#FF6692\", \"#B6E880\", \"#FF97FF\", \"#FECB52\"], \"font\": {\"color\": \"#2a3f5f\"}, \"geo\": {\"bgcolor\": \"white\", \"lakecolor\": \"white\", \"landcolor\": \"#E5ECF6\", \"showlakes\": true, \"showland\": true, \"subunitcolor\": \"white\"}, \"hoverlabel\": {\"align\": \"left\"}, \"hovermode\": \"closest\", \"mapbox\": {\"style\": \"light\"}, \"paper_bgcolor\": \"white\", \"plot_bgcolor\": \"#E5ECF6\", \"polar\": {\"angularaxis\": {\"gridcolor\": \"white\", \"linecolor\": \"white\", \"ticks\": \"\"}, \"bgcolor\": \"#E5ECF6\", \"radialaxis\": {\"gridcolor\": \"white\", \"linecolor\": \"white\", \"ticks\": \"\"}}, \"scene\": {\"xaxis\": {\"backgroundcolor\": \"#E5ECF6\", \"gridcolor\": \"white\", \"gridwidth\": 2, \"linecolor\": \"white\", \"showbackground\": true, \"ticks\": \"\", \"zerolinecolor\": \"white\"}, \"yaxis\": {\"backgroundcolor\": \"#E5ECF6\", \"gridcolor\": \"white\", \"gridwidth\": 2, \"linecolor\": \"white\", \"showbackground\": true, \"ticks\": \"\", \"zerolinecolor\": \"white\"}, \"zaxis\": {\"backgroundcolor\": \"#E5ECF6\", \"gridcolor\": \"white\", \"gridwidth\": 2, \"linecolor\": \"white\", \"showbackground\": true, \"ticks\": \"\", \"zerolinecolor\": \"white\"}}, \"shapedefaults\": {\"line\": {\"color\": \"#2a3f5f\"}}, \"ternary\": {\"aaxis\": {\"gridcolor\": \"white\", \"linecolor\": \"white\", \"ticks\": \"\"}, \"baxis\": {\"gridcolor\": \"white\", \"linecolor\": \"white\", \"ticks\": \"\"}, \"bgcolor\": \"#E5ECF6\", \"caxis\": {\"gridcolor\": \"white\", \"linecolor\": \"white\", \"ticks\": \"\"}}, \"title\": {\"x\": 0.05}, \"xaxis\": {\"automargin\": true, \"gridcolor\": \"white\", \"linecolor\": \"white\", \"ticks\": \"\", \"title\": {\"standoff\": 15}, \"zerolinecolor\": \"white\", \"zerolinewidth\": 2}, \"yaxis\": {\"automargin\": true, \"gridcolor\": \"white\", \"linecolor\": \"white\", \"ticks\": \"\", \"title\": {\"standoff\": 15}, \"zerolinecolor\": \"white\", \"zerolinewidth\": 2}}}, \"title\": {\"text\": \"Parallel Coordinate Plot\"}},\n",
              "                        {\"responsive\": true}\n",
              "                    ).then(function(){\n",
              "                            \n",
              "var gd = document.getElementById('7dd46d24-2dd9-4f10-b917-3bb47cafcde9');\n",
              "var x = new MutationObserver(function (mutations, observer) {{\n",
              "        var display = window.getComputedStyle(gd).display;\n",
              "        if (!display || display === 'none') {{\n",
              "            console.log([gd, 'removed!']);\n",
              "            Plotly.purge(gd);\n",
              "            observer.disconnect();\n",
              "        }}\n",
              "}});\n",
              "\n",
              "// Listen for the removal of the full notebook cells\n",
              "var notebookContainer = gd.closest('#notebook-container');\n",
              "if (notebookContainer) {{\n",
              "    x.observe(notebookContainer, {childList: true});\n",
              "}}\n",
              "\n",
              "// Listen for the clearing of the current output cell\n",
              "var outputEl = gd.closest('.output');\n",
              "if (outputEl) {{\n",
              "    x.observe(outputEl, {childList: true});\n",
              "}}\n",
              "\n",
              "                        })\n",
              "                };\n",
              "                \n",
              "            </script>\n",
              "        </div>\n",
              "</body>\n",
              "</html>"
            ]
          },
          "metadata": {
            "tags": []
          }
        }
      ]
    },
    {
      "cell_type": "code",
      "metadata": {
        "colab": {
          "base_uri": "https://localhost:8080/",
          "height": 178
        },
        "id": "C1H4QwxUHJbX",
        "outputId": "2273a745-b9de-4925-e776-5d53dc6e43ed"
      },
      "source": [
        "# plot feature importance for algorithm parameters\r\n",
        "visualization.plot_param_importances(study)"
      ],
      "execution_count": 28,
      "outputs": [
        {
          "output_type": "error",
          "ename": "NameError",
          "evalue": "ignored",
          "traceback": [
            "\u001b[0;31m---------------------------------------------------------------------------\u001b[0m",
            "\u001b[0;31mNameError\u001b[0m                                 Traceback (most recent call last)",
            "\u001b[0;32m<ipython-input-28-92aa229bb95a>\u001b[0m in \u001b[0;36m<module>\u001b[0;34m()\u001b[0m\n\u001b[1;32m      1\u001b[0m \u001b[0;31m# plot feature importance for algorithm parameters\u001b[0m\u001b[0;34m\u001b[0m\u001b[0;34m\u001b[0m\u001b[0;34m\u001b[0m\u001b[0m\n\u001b[0;32m----> 2\u001b[0;31m \u001b[0mvisualization\u001b[0m\u001b[0;34m.\u001b[0m\u001b[0mplot_param_importances\u001b[0m\u001b[0;34m(\u001b[0m\u001b[0mstudy\u001b[0m\u001b[0;34m)\u001b[0m\u001b[0;34m\u001b[0m\u001b[0;34m\u001b[0m\u001b[0m\n\u001b[0m",
            "\u001b[0;31mNameError\u001b[0m: name 'visualization' is not defined"
          ]
        }
      ]
    },
    {
      "cell_type": "code",
      "metadata": {
        "colab": {
          "base_uri": "https://localhost:8080/"
        },
        "id": "OFcBi1rIHXEH",
        "outputId": "3630d957-89a8-4721-a32b-904cbf65f1fa"
      },
      "source": [
        "# finally plot best parameters\r\n",
        "study.best_params"
      ],
      "execution_count": 29,
      "outputs": [
        {
          "output_type": "execute_result",
          "data": {
            "text/plain": [
              "{'alpha': 0.7114423595870062,\n",
              " 'colsample_bytree': 0.8,\n",
              " 'lambda': 0.36311467811954184,\n",
              " 'learning_rate': 0.01,\n",
              " 'max_depth': 15,\n",
              " 'min_child_weight': 152,\n",
              " 'n_estimators': 3000,\n",
              " 'subsample': 0.6}"
            ]
          },
          "metadata": {
            "tags": []
          },
          "execution_count": 29
        }
      ]
    },
    {
      "cell_type": "code",
      "metadata": {
        "colab": {
          "base_uri": "https://localhost:8080/",
          "height": 542
        },
        "id": "2HyEKIi-HZRX",
        "outputId": "6236be03-4569-4b99-e0cd-837133005b4c"
      },
      "source": [
        "#Visualize empirical distribution function\r\n",
        "optuna.visualization.plot_edf(study)"
      ],
      "execution_count": 30,
      "outputs": [
        {
          "output_type": "display_data",
          "data": {
            "text/html": [
              "<html>\n",
              "<head><meta charset=\"utf-8\" /></head>\n",
              "<body>\n",
              "    <div>\n",
              "            <script src=\"https://cdnjs.cloudflare.com/ajax/libs/mathjax/2.7.5/MathJax.js?config=TeX-AMS-MML_SVG\"></script><script type=\"text/javascript\">if (window.MathJax) {MathJax.Hub.Config({SVG: {font: \"STIX-Web\"}});}</script>\n",
              "                <script type=\"text/javascript\">window.PlotlyConfig = {MathJaxConfig: 'local'};</script>\n",
              "        <script src=\"https://cdn.plot.ly/plotly-latest.min.js\"></script>    \n",
              "            <div id=\"85883206-c6ce-409e-9a1e-2ac062b7294e\" class=\"plotly-graph-div\" style=\"height:525px; width:100%;\"></div>\n",
              "            <script type=\"text/javascript\">\n",
              "                \n",
              "                    window.PLOTLYENV=window.PLOTLYENV || {};\n",
              "                    \n",
              "                if (document.getElementById(\"85883206-c6ce-409e-9a1e-2ac062b7294e\")) {\n",
              "                    Plotly.newPlot(\n",
              "                        '85883206-c6ce-409e-9a1e-2ac062b7294e',\n",
              "                        [{\"mode\": \"lines\", \"name\": \"no-name-2b077543-1b54-42c5-b275-5806e5f57e2c\", \"type\": \"scatter\", \"x\": [0.6938753178191799, 0.707501281929404, 0.7211272460396281, 0.7347532101498523, 0.7483791742600764, 0.7620051383703005, 0.7756311024805247, 0.7892570665907488, 0.8028830307009729, 0.816508994811197, 0.8301349589214211, 0.8437609230316453, 0.8573868871418694, 0.8710128512520935, 0.8846388153623177, 0.8982647794725418, 0.9118907435827659, 0.92551670769299, 0.9391426718032141, 0.9527686359134383, 0.9663946000236624, 0.9800205641338865, 0.9936465282441107, 1.0072724923543348, 1.020898456464559, 1.034524420574783, 1.048150384685007, 1.0617763487952314, 1.0754023129054553, 1.0890282770156796, 1.1026542411259037, 1.1162802052361278, 1.129906169346352, 1.143532133456576, 1.1571580975668, 1.1707840616770242, 1.1844100257872485, 1.1980359898974724, 1.2116619540076967, 1.2252879181179208, 1.238913882228145, 1.252539846338369, 1.266165810448593, 1.2797917745588174, 1.2934177386690413, 1.3070437027792656, 1.3206696668894897, 1.3342956309997138, 1.347921595109938, 1.361547559220162, 1.3751735233303861, 1.3887994874406102, 1.4024254515508345, 1.4160514156610584, 1.4296773797712827, 1.4433033438815068, 1.456929307991731, 1.470555272101955, 1.4841812362121791, 1.4978072003224034, 1.5114331644326273, 1.5250591285428516, 1.5386850926530757, 1.5523110567632998, 1.565937020873524, 1.579562984983748, 1.5931889490939721, 1.6068149132041962, 1.6204408773144205, 1.6340668414246444, 1.6476928055348687, 1.6613187696450928, 1.674944733755317, 1.688570697865541, 1.7021966619757651, 1.7158226260859892, 1.7294485901962136, 1.7430745543064377, 1.7567005184166617, 1.7703264825268858, 1.78395244663711, 1.797578410747334, 1.8112043748575581, 1.8248303389677822, 1.8384563030780063, 1.8520822671882307, 1.8657082312984548, 1.8793341954086789, 1.892960159518903, 1.906586123629127, 1.9202120877393511, 1.9338380518495752, 1.9474640159597996, 1.9610899800700237, 1.9747159441802478, 1.9883419082904719, 2.001967872400696, 2.01559383651092, 2.029219800621144, 2.0428457647313683], \"y\": [0.04, 0.68, 0.72, 0.72, 0.72, 0.72, 0.76, 0.76, 0.76, 0.76, 0.76, 0.76, 0.76, 0.84, 0.84, 0.84, 0.84, 0.84, 0.84, 0.84, 0.84, 0.88, 0.92, 0.92, 0.92, 0.92, 0.92, 0.92, 0.92, 0.92, 0.92, 0.92, 0.92, 0.92, 0.92, 0.92, 0.92, 0.92, 0.92, 0.92, 0.92, 0.92, 0.92, 0.92, 0.92, 0.92, 0.92, 0.92, 0.92, 0.92, 0.92, 0.92, 0.92, 0.96, 0.96, 0.96, 0.96, 0.96, 0.96, 0.96, 0.96, 0.96, 0.96, 0.96, 0.96, 0.96, 0.96, 0.96, 0.96, 0.96, 0.96, 0.96, 0.96, 0.96, 0.96, 0.96, 0.96, 0.96, 0.96, 0.96, 0.96, 0.96, 0.96, 0.96, 0.96, 0.96, 0.96, 0.96, 0.96, 0.96, 0.96, 0.96, 0.96, 0.96, 0.96, 0.96, 0.96, 0.96, 0.96, 1.0]}],\n",
              "                        {\"template\": {\"data\": {\"bar\": [{\"error_x\": {\"color\": \"#2a3f5f\"}, \"error_y\": {\"color\": \"#2a3f5f\"}, \"marker\": {\"line\": {\"color\": \"#E5ECF6\", \"width\": 0.5}}, \"type\": \"bar\"}], \"barpolar\": [{\"marker\": {\"line\": {\"color\": \"#E5ECF6\", \"width\": 0.5}}, \"type\": \"barpolar\"}], \"carpet\": [{\"aaxis\": {\"endlinecolor\": \"#2a3f5f\", \"gridcolor\": \"white\", \"linecolor\": \"white\", \"minorgridcolor\": \"white\", \"startlinecolor\": \"#2a3f5f\"}, \"baxis\": {\"endlinecolor\": \"#2a3f5f\", \"gridcolor\": \"white\", \"linecolor\": \"white\", \"minorgridcolor\": \"white\", \"startlinecolor\": \"#2a3f5f\"}, \"type\": \"carpet\"}], \"choropleth\": [{\"colorbar\": {\"outlinewidth\": 0, \"ticks\": \"\"}, \"type\": \"choropleth\"}], \"contour\": [{\"colorbar\": {\"outlinewidth\": 0, \"ticks\": \"\"}, \"colorscale\": [[0.0, \"#0d0887\"], [0.1111111111111111, \"#46039f\"], [0.2222222222222222, \"#7201a8\"], [0.3333333333333333, \"#9c179e\"], [0.4444444444444444, \"#bd3786\"], [0.5555555555555556, \"#d8576b\"], [0.6666666666666666, \"#ed7953\"], [0.7777777777777778, \"#fb9f3a\"], [0.8888888888888888, \"#fdca26\"], [1.0, \"#f0f921\"]], \"type\": \"contour\"}], \"contourcarpet\": [{\"colorbar\": {\"outlinewidth\": 0, \"ticks\": \"\"}, \"type\": \"contourcarpet\"}], \"heatmap\": [{\"colorbar\": {\"outlinewidth\": 0, \"ticks\": \"\"}, \"colorscale\": [[0.0, \"#0d0887\"], [0.1111111111111111, \"#46039f\"], [0.2222222222222222, \"#7201a8\"], [0.3333333333333333, \"#9c179e\"], [0.4444444444444444, \"#bd3786\"], [0.5555555555555556, \"#d8576b\"], [0.6666666666666666, \"#ed7953\"], [0.7777777777777778, \"#fb9f3a\"], [0.8888888888888888, \"#fdca26\"], [1.0, \"#f0f921\"]], \"type\": \"heatmap\"}], \"heatmapgl\": [{\"colorbar\": {\"outlinewidth\": 0, \"ticks\": \"\"}, \"colorscale\": [[0.0, \"#0d0887\"], [0.1111111111111111, \"#46039f\"], [0.2222222222222222, \"#7201a8\"], [0.3333333333333333, \"#9c179e\"], [0.4444444444444444, \"#bd3786\"], [0.5555555555555556, \"#d8576b\"], [0.6666666666666666, \"#ed7953\"], [0.7777777777777778, \"#fb9f3a\"], [0.8888888888888888, \"#fdca26\"], [1.0, \"#f0f921\"]], \"type\": \"heatmapgl\"}], \"histogram\": [{\"marker\": {\"colorbar\": {\"outlinewidth\": 0, \"ticks\": \"\"}}, \"type\": \"histogram\"}], \"histogram2d\": [{\"colorbar\": {\"outlinewidth\": 0, \"ticks\": \"\"}, \"colorscale\": [[0.0, \"#0d0887\"], [0.1111111111111111, \"#46039f\"], [0.2222222222222222, \"#7201a8\"], [0.3333333333333333, \"#9c179e\"], [0.4444444444444444, \"#bd3786\"], [0.5555555555555556, \"#d8576b\"], [0.6666666666666666, \"#ed7953\"], [0.7777777777777778, \"#fb9f3a\"], [0.8888888888888888, \"#fdca26\"], [1.0, \"#f0f921\"]], \"type\": \"histogram2d\"}], \"histogram2dcontour\": [{\"colorbar\": {\"outlinewidth\": 0, \"ticks\": \"\"}, \"colorscale\": [[0.0, \"#0d0887\"], [0.1111111111111111, \"#46039f\"], [0.2222222222222222, \"#7201a8\"], [0.3333333333333333, \"#9c179e\"], [0.4444444444444444, \"#bd3786\"], [0.5555555555555556, \"#d8576b\"], [0.6666666666666666, \"#ed7953\"], [0.7777777777777778, \"#fb9f3a\"], [0.8888888888888888, \"#fdca26\"], [1.0, \"#f0f921\"]], \"type\": \"histogram2dcontour\"}], \"mesh3d\": [{\"colorbar\": {\"outlinewidth\": 0, \"ticks\": \"\"}, \"type\": \"mesh3d\"}], \"parcoords\": [{\"line\": {\"colorbar\": {\"outlinewidth\": 0, \"ticks\": \"\"}}, \"type\": \"parcoords\"}], \"pie\": [{\"automargin\": true, \"type\": \"pie\"}], \"scatter\": [{\"marker\": {\"colorbar\": {\"outlinewidth\": 0, \"ticks\": \"\"}}, \"type\": \"scatter\"}], \"scatter3d\": [{\"line\": {\"colorbar\": {\"outlinewidth\": 0, \"ticks\": \"\"}}, \"marker\": {\"colorbar\": {\"outlinewidth\": 0, \"ticks\": \"\"}}, \"type\": \"scatter3d\"}], \"scattercarpet\": [{\"marker\": {\"colorbar\": {\"outlinewidth\": 0, \"ticks\": \"\"}}, \"type\": \"scattercarpet\"}], \"scattergeo\": [{\"marker\": {\"colorbar\": {\"outlinewidth\": 0, \"ticks\": \"\"}}, \"type\": \"scattergeo\"}], \"scattergl\": [{\"marker\": {\"colorbar\": {\"outlinewidth\": 0, \"ticks\": \"\"}}, \"type\": \"scattergl\"}], \"scattermapbox\": [{\"marker\": {\"colorbar\": {\"outlinewidth\": 0, \"ticks\": \"\"}}, \"type\": \"scattermapbox\"}], \"scatterpolar\": [{\"marker\": {\"colorbar\": {\"outlinewidth\": 0, \"ticks\": \"\"}}, \"type\": \"scatterpolar\"}], \"scatterpolargl\": [{\"marker\": {\"colorbar\": {\"outlinewidth\": 0, \"ticks\": \"\"}}, \"type\": \"scatterpolargl\"}], \"scatterternary\": [{\"marker\": {\"colorbar\": {\"outlinewidth\": 0, \"ticks\": \"\"}}, \"type\": \"scatterternary\"}], \"surface\": [{\"colorbar\": {\"outlinewidth\": 0, \"ticks\": \"\"}, \"colorscale\": [[0.0, \"#0d0887\"], [0.1111111111111111, \"#46039f\"], [0.2222222222222222, \"#7201a8\"], [0.3333333333333333, \"#9c179e\"], [0.4444444444444444, \"#bd3786\"], [0.5555555555555556, \"#d8576b\"], [0.6666666666666666, \"#ed7953\"], [0.7777777777777778, \"#fb9f3a\"], [0.8888888888888888, \"#fdca26\"], [1.0, \"#f0f921\"]], \"type\": \"surface\"}], \"table\": [{\"cells\": {\"fill\": {\"color\": \"#EBF0F8\"}, \"line\": {\"color\": \"white\"}}, \"header\": {\"fill\": {\"color\": \"#C8D4E3\"}, \"line\": {\"color\": \"white\"}}, \"type\": \"table\"}]}, \"layout\": {\"annotationdefaults\": {\"arrowcolor\": \"#2a3f5f\", \"arrowhead\": 0, \"arrowwidth\": 1}, \"coloraxis\": {\"colorbar\": {\"outlinewidth\": 0, \"ticks\": \"\"}}, \"colorscale\": {\"diverging\": [[0, \"#8e0152\"], [0.1, \"#c51b7d\"], [0.2, \"#de77ae\"], [0.3, \"#f1b6da\"], [0.4, \"#fde0ef\"], [0.5, \"#f7f7f7\"], [0.6, \"#e6f5d0\"], [0.7, \"#b8e186\"], [0.8, \"#7fbc41\"], [0.9, \"#4d9221\"], [1, \"#276419\"]], \"sequential\": [[0.0, \"#0d0887\"], [0.1111111111111111, \"#46039f\"], [0.2222222222222222, \"#7201a8\"], [0.3333333333333333, \"#9c179e\"], [0.4444444444444444, \"#bd3786\"], [0.5555555555555556, \"#d8576b\"], [0.6666666666666666, \"#ed7953\"], [0.7777777777777778, \"#fb9f3a\"], [0.8888888888888888, \"#fdca26\"], [1.0, \"#f0f921\"]], \"sequentialminus\": [[0.0, \"#0d0887\"], [0.1111111111111111, \"#46039f\"], [0.2222222222222222, \"#7201a8\"], [0.3333333333333333, \"#9c179e\"], [0.4444444444444444, \"#bd3786\"], [0.5555555555555556, \"#d8576b\"], [0.6666666666666666, \"#ed7953\"], [0.7777777777777778, \"#fb9f3a\"], [0.8888888888888888, \"#fdca26\"], [1.0, \"#f0f921\"]]}, \"colorway\": [\"#636efa\", \"#EF553B\", \"#00cc96\", \"#ab63fa\", \"#FFA15A\", \"#19d3f3\", \"#FF6692\", \"#B6E880\", \"#FF97FF\", \"#FECB52\"], \"font\": {\"color\": \"#2a3f5f\"}, \"geo\": {\"bgcolor\": \"white\", \"lakecolor\": \"white\", \"landcolor\": \"#E5ECF6\", \"showlakes\": true, \"showland\": true, \"subunitcolor\": \"white\"}, \"hoverlabel\": {\"align\": \"left\"}, \"hovermode\": \"closest\", \"mapbox\": {\"style\": \"light\"}, \"paper_bgcolor\": \"white\", \"plot_bgcolor\": \"#E5ECF6\", \"polar\": {\"angularaxis\": {\"gridcolor\": \"white\", \"linecolor\": \"white\", \"ticks\": \"\"}, \"bgcolor\": \"#E5ECF6\", \"radialaxis\": {\"gridcolor\": \"white\", \"linecolor\": \"white\", \"ticks\": \"\"}}, \"scene\": {\"xaxis\": {\"backgroundcolor\": \"#E5ECF6\", \"gridcolor\": \"white\", \"gridwidth\": 2, \"linecolor\": \"white\", \"showbackground\": true, \"ticks\": \"\", \"zerolinecolor\": \"white\"}, \"yaxis\": {\"backgroundcolor\": \"#E5ECF6\", \"gridcolor\": \"white\", \"gridwidth\": 2, \"linecolor\": \"white\", \"showbackground\": true, \"ticks\": \"\", \"zerolinecolor\": \"white\"}, \"zaxis\": {\"backgroundcolor\": \"#E5ECF6\", \"gridcolor\": \"white\", \"gridwidth\": 2, \"linecolor\": \"white\", \"showbackground\": true, \"ticks\": \"\", \"zerolinecolor\": \"white\"}}, \"shapedefaults\": {\"line\": {\"color\": \"#2a3f5f\"}}, \"ternary\": {\"aaxis\": {\"gridcolor\": \"white\", \"linecolor\": \"white\", \"ticks\": \"\"}, \"baxis\": {\"gridcolor\": \"white\", \"linecolor\": \"white\", \"ticks\": \"\"}, \"bgcolor\": \"#E5ECF6\", \"caxis\": {\"gridcolor\": \"white\", \"linecolor\": \"white\", \"ticks\": \"\"}}, \"title\": {\"x\": 0.05}, \"xaxis\": {\"automargin\": true, \"gridcolor\": \"white\", \"linecolor\": \"white\", \"ticks\": \"\", \"title\": {\"standoff\": 15}, \"zerolinecolor\": \"white\", \"zerolinewidth\": 2}, \"yaxis\": {\"automargin\": true, \"gridcolor\": \"white\", \"linecolor\": \"white\", \"ticks\": \"\", \"title\": {\"standoff\": 15}, \"zerolinecolor\": \"white\", \"zerolinewidth\": 2}}}, \"title\": {\"text\": \"Empirical Distribution Function Plot\"}, \"xaxis\": {\"title\": {\"text\": \"Objective Value\"}}, \"yaxis\": {\"range\": [0, 1], \"title\": {\"text\": \"Cumulative Probability\"}}},\n",
              "                        {\"responsive\": true}\n",
              "                    ).then(function(){\n",
              "                            \n",
              "var gd = document.getElementById('85883206-c6ce-409e-9a1e-2ac062b7294e');\n",
              "var x = new MutationObserver(function (mutations, observer) {{\n",
              "        var display = window.getComputedStyle(gd).display;\n",
              "        if (!display || display === 'none') {{\n",
              "            console.log([gd, 'removed!']);\n",
              "            Plotly.purge(gd);\n",
              "            observer.disconnect();\n",
              "        }}\n",
              "}});\n",
              "\n",
              "// Listen for the removal of the full notebook cells\n",
              "var notebookContainer = gd.closest('#notebook-container');\n",
              "if (notebookContainer) {{\n",
              "    x.observe(notebookContainer, {childList: true});\n",
              "}}\n",
              "\n",
              "// Listen for the clearing of the current output cell\n",
              "var outputEl = gd.closest('.output');\n",
              "if (outputEl) {{\n",
              "    x.observe(outputEl, {childList: true});\n",
              "}}\n",
              "\n",
              "                        })\n",
              "                };\n",
              "                \n",
              "            </script>\n",
              "        </div>\n",
              "</body>\n",
              "</html>"
            ]
          },
          "metadata": {
            "tags": []
          }
        }
      ]
    },
    {
      "cell_type": "code",
      "metadata": {
        "colab": {
          "base_uri": "https://localhost:8080/"
        },
        "id": "UPscqUIKHbQn",
        "outputId": "99832a9f-10d0-4046-9d8a-13b74a1b1980"
      },
      "source": [
        "best_params = study.best_params\r\n",
        "best_params['tree_method'] = 'gpu_hist'\r\n",
        "best_params['random_state'] = 42\r\n",
        "\r\n",
        "clf = xgb.XGBRegressor(**(best_params))\r\n",
        "\r\n",
        "clf.fit(x, y)"
      ],
      "execution_count": 32,
      "outputs": [
        {
          "output_type": "stream",
          "text": [
            "[16:06:38] WARNING: /workspace/src/objective/regression_obj.cu:152: reg:linear is now deprecated in favor of reg:squarederror.\n"
          ],
          "name": "stdout"
        },
        {
          "output_type": "execute_result",
          "data": {
            "text/plain": [
              "XGBRegressor(alpha=0.7114423595870062, base_score=0.5, booster='gbtree',\n",
              "             colsample_bylevel=1, colsample_bynode=1, colsample_bytree=0.8,\n",
              "             gamma=0, importance_type='gain', lambda=0.36311467811954184,\n",
              "             learning_rate=0.01, max_delta_step=0, max_depth=15,\n",
              "             min_child_weight=152, missing=None, n_estimators=3000, n_jobs=1,\n",
              "             nthread=None, objective='reg:linear', random_state=42, reg_alpha=0,\n",
              "             reg_lambda=1, scale_pos_weight=1, seed=None, silent=None,\n",
              "             subsample=0.6, tree_method='gpu_hist', verbosity=1)"
            ]
          },
          "metadata": {
            "tags": []
          },
          "execution_count": 32
        }
      ]
    },
    {
      "cell_type": "code",
      "metadata": {
        "id": "MqB7IznbHbT1"
      },
      "source": [
        "preds = pd.Series(clf.predict(test_df.drop('id', axis=1)), name='target')\r\n",
        "preds = pd.concat([test_df['id'], preds], axis=1)"
      ],
      "execution_count": 33,
      "outputs": []
    },
    {
      "cell_type": "code",
      "metadata": {
        "colab": {
          "base_uri": "https://localhost:8080/",
          "height": 195
        },
        "id": "s9Ld4kVgHbVv",
        "outputId": "3ca21e93-365e-4778-f1f0-1ea88cfbdabc"
      },
      "source": [
        "preds.head()"
      ],
      "execution_count": 34,
      "outputs": [
        {
          "output_type": "execute_result",
          "data": {
            "text/html": [
              "<div>\n",
              "<style scoped>\n",
              "    .dataframe tbody tr th:only-of-type {\n",
              "        vertical-align: middle;\n",
              "    }\n",
              "\n",
              "    .dataframe tbody tr th {\n",
              "        vertical-align: top;\n",
              "    }\n",
              "\n",
              "    .dataframe thead th {\n",
              "        text-align: right;\n",
              "    }\n",
              "</style>\n",
              "<table border=\"1\" class=\"dataframe\">\n",
              "  <thead>\n",
              "    <tr style=\"text-align: right;\">\n",
              "      <th></th>\n",
              "      <th>id</th>\n",
              "      <th>target</th>\n",
              "    </tr>\n",
              "  </thead>\n",
              "  <tbody>\n",
              "    <tr>\n",
              "      <th>0</th>\n",
              "      <td>0</td>\n",
              "      <td>8.011963</td>\n",
              "    </tr>\n",
              "    <tr>\n",
              "      <th>1</th>\n",
              "      <td>2</td>\n",
              "      <td>8.013160</td>\n",
              "    </tr>\n",
              "    <tr>\n",
              "      <th>2</th>\n",
              "      <td>6</td>\n",
              "      <td>7.908397</td>\n",
              "    </tr>\n",
              "    <tr>\n",
              "      <th>3</th>\n",
              "      <td>7</td>\n",
              "      <td>8.336289</td>\n",
              "    </tr>\n",
              "    <tr>\n",
              "      <th>4</th>\n",
              "      <td>10</td>\n",
              "      <td>8.023216</td>\n",
              "    </tr>\n",
              "  </tbody>\n",
              "</table>\n",
              "</div>"
            ],
            "text/plain": [
              "   id    target\n",
              "0   0  8.011963\n",
              "1   2  8.013160\n",
              "2   6  7.908397\n",
              "3   7  8.336289\n",
              "4  10  8.023216"
            ]
          },
          "metadata": {
            "tags": []
          },
          "execution_count": 34
        }
      ]
    },
    {
      "cell_type": "code",
      "metadata": {
        "id": "AUa2FwqVHbYS"
      },
      "source": [
        "preds.to_csv(\"submission.csv\", index=False)"
      ],
      "execution_count": 35,
      "outputs": []
    }
  ]
}